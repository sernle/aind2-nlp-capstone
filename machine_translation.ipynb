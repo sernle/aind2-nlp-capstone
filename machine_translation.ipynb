{
 "cells": [
  {
   "cell_type": "markdown",
   "metadata": {
    "collapsed": true
   },
   "source": [
    "# Artificial Intelligence Nanodegree\n",
    "## Machine Translation Project\n",
    "In this notebook, sections that end with **'(IMPLEMENTATION)'** in the header indicate that the following blocks of code will require additional functionality which you must provide. Please be sure to read the instructions carefully!\n",
    "\n",
    "## Introduction\n",
    "In this notebook, you will build a deep neural network that functions as part of an end-to-end machine translation pipeline. Your completed pipeline will accept English text as input and return the French translation.\n",
    "\n",
    "- **Preprocess** - You'll convert text to sequence of integers.\n",
    "- **Models** Create models which accepts a sequence of integers as input and returns a probability distribution over possible translations. After learning about the basic types of neural networks that are often used for machine translation, you will engage in your own investigations, to design your own model!\n",
    "- **Prediction** Run the model on English text.\n",
    "\n",
    "## Dataset\n",
    "We begin by investigating the dataset that will be used to train and evaluate your pipeline.  The most common datasets used for machine translation are from [WMT](http://www.statmt.org/).  However, that will take a long time to train a neural network on.  We'll be using a dataset we created for this project that contains a small vocabulary.  You'll be able to train your model in a reasonable time with this dataset.\n",
    "### Load Data\n",
    "The data is located in `data/small_vocab_en` and `data/small_vocab_fr`. The `small_vocab_en` file contains English sentences with their French translations in the `small_vocab_fr` file. Load the English and French data from these files from running the cell below."
   ]
  },
  {
   "cell_type": "code",
   "execution_count": 1,
   "metadata": {},
   "outputs": [
    {
     "name": "stdout",
     "output_type": "stream",
     "text": [
      "Dataset Loaded\n"
     ]
    }
   ],
   "source": [
    "import helper\n",
    "\n",
    "\n",
    "# Load English data\n",
    "english_sentences = helper.load_data('data/small_vocab_en')\n",
    "# Load French data\n",
    "french_sentences = helper.load_data('data/small_vocab_fr')\n",
    "\n",
    "print('Dataset Loaded')"
   ]
  },
  {
   "cell_type": "markdown",
   "metadata": {},
   "source": [
    "### Files\n",
    "Each line in `small_vocab_en` contains an English sentence with the respective translation in each line of `small_vocab_fr`.  View the first two lines from each file."
   ]
  },
  {
   "cell_type": "code",
   "execution_count": 2,
   "metadata": {},
   "outputs": [
    {
     "name": "stdout",
     "output_type": "stream",
     "text": [
      "small_vocab_en Line 1:  new jersey is sometimes quiet during autumn , and it is snowy in april .\n",
      "small_vocab_fr Line 1:  new jersey est parfois calme pendant l' automne , et il est neigeux en avril .\n",
      "small_vocab_en Line 2:  the united states is usually chilly during july , and it is usually freezing in november .\n",
      "small_vocab_fr Line 2:  les états-unis est généralement froid en juillet , et il gèle habituellement en novembre .\n"
     ]
    }
   ],
   "source": [
    "for sample_i in range(2):\n",
    "    print('small_vocab_en Line {}:  {}'.format(sample_i + 1, english_sentences[sample_i]))\n",
    "    print('small_vocab_fr Line {}:  {}'.format(sample_i + 1, french_sentences[sample_i]))"
   ]
  },
  {
   "cell_type": "markdown",
   "metadata": {},
   "source": [
    "From looking at the sentences, you can see they have been preprocessed already.  The puncuations have been delimited using spaces. All the text have been converted to lowercase.  This should save you some time, but the text requires more preprocessing.\n",
    "### Vocabulary\n",
    "The complexity of the problem is determined by the complexity of the vocabulary.  A more complex vocabulary is a more complex problem.  Let's look at the complexity of the dataset we'll be working with."
   ]
  },
  {
   "cell_type": "code",
   "execution_count": 3,
   "metadata": {},
   "outputs": [
    {
     "name": "stdout",
     "output_type": "stream",
     "text": [
      "1823250 English words.\n",
      "227 unique English words.\n",
      "10 Most common words in the English dataset:\n",
      "\"is\" \",\" \".\" \"in\" \"it\" \"during\" \"the\" \"but\" \"and\" \"sometimes\"\n",
      "\n",
      "1961295 French words.\n",
      "355 unique French words.\n",
      "10 Most common words in the French dataset:\n",
      "\"est\" \".\" \",\" \"en\" \"il\" \"les\" \"mais\" \"et\" \"la\" \"parfois\"\n"
     ]
    }
   ],
   "source": [
    "import collections\n",
    "\n",
    "\n",
    "english_words_counter = collections.Counter([word for sentence in english_sentences for word in sentence.split()])\n",
    "french_words_counter = collections.Counter([word for sentence in french_sentences for word in sentence.split()])\n",
    "\n",
    "print('{} English words.'.format(len([word for sentence in english_sentences for word in sentence.split()])))\n",
    "print('{} unique English words.'.format(len(english_words_counter)))\n",
    "print('10 Most common words in the English dataset:')\n",
    "print('\"' + '\" \"'.join(list(zip(*english_words_counter.most_common(10)))[0]) + '\"')\n",
    "print()\n",
    "print('{} French words.'.format(len([word for sentence in french_sentences for word in sentence.split()])))\n",
    "print('{} unique French words.'.format(len(french_words_counter)))\n",
    "print('10 Most common words in the French dataset:')\n",
    "print('\"' + '\" \"'.join(list(zip(*french_words_counter.most_common(10)))[0]) + '\"')"
   ]
  },
  {
   "cell_type": "markdown",
   "metadata": {},
   "source": [
    "For comparison, _Alice's Adventures in Wonderland_ contains 2,766 unique words of a total of 15,500 words.\n",
    "## Preprocess\n",
    "For this project, you won't use text data as input to your model. Instead, you'll convert the text into sequences of integers using the following preprocess methods:\n",
    "1. Tokenize the words into ids\n",
    "2. Add padding to make all the sequences the same length.\n",
    "\n",
    "Time to start preprocessing the data...\n",
    "### Tokenize (IMPLEMENTATION)\n",
    "For a neural network to predict on text data, it first has to be turned into data it can understand. Text data like \"dog\" is a sequence of ASCII character encodings.  Since a neural network is a series of multiplication and addition operations, the input data needs to be number(s).\n",
    "\n",
    "We can turn each character into a number or each word into a number.  These are called character and word ids, respectively.  Character ids are used for character level models that generate text predictions for each character.  A word level model uses word ids that generate text predictions for each word.  Word level models tend to learn better, since they are lower in complexity, so we'll use those.\n",
    "\n",
    "Turn each sentence into a sequence of words ids using Keras's [`Tokenizer`](https://keras.io/preprocessing/text/#tokenizer) function. Use this function to tokenize `english_sentences` and `french_sentences` in the cell below.\n",
    "\n",
    "Running the cell will run `tokenize` on sample data and show output for debugging."
   ]
  },
  {
   "cell_type": "code",
   "execution_count": 4,
   "metadata": {},
   "outputs": [
    {
     "name": "stderr",
     "output_type": "stream",
     "text": [
      "Using TensorFlow backend.\n"
     ]
    },
    {
     "name": "stdout",
     "output_type": "stream",
     "text": [
      "{'study': 13, 'jumps': 6, 'sentence': 21, 'the': 1, 'short': 20, 'of': 14, 'by': 10, 'a': 3, 'is': 19, 'won': 16, 'this': 18, 'my': 12, 'dog': 9, 'fox': 5, 'over': 7, 'lexicography': 15, 'prize': 17, 'jove': 11, 'quick': 2, 'lazy': 8, 'brown': 4}\n",
      "\n",
      "Sequence 1 in x\n",
      "  Input:  The quick brown fox jumps over the lazy dog .\n",
      "  Output: [1, 2, 4, 5, 6, 7, 1, 8, 9]\n",
      "Sequence 2 in x\n",
      "  Input:  By Jove , my quick study of lexicography won a prize .\n",
      "  Output: [10, 11, 12, 2, 13, 14, 15, 16, 3, 17]\n",
      "Sequence 3 in x\n",
      "  Input:  This is a short sentence .\n",
      "  Output: [18, 19, 3, 20, 21]\n"
     ]
    }
   ],
   "source": [
    "import project_tests as tests\n",
    "from keras.preprocessing.text import Tokenizer\n",
    "\n",
    "\n",
    "def tokenize(x):\n",
    "    \"\"\"\n",
    "    Tokenize x\n",
    "    :param x: List of sentences/strings to be tokenized\n",
    "    :return: Tuple of (tokenized x data, tokenizer used to tokenize x)\n",
    "    \"\"\"\n",
    "    tokenizer = Tokenizer()\n",
    "    tokenizer.fit_on_texts(x)\n",
    "    \n",
    "    return tokenizer.texts_to_sequences(x), tokenizer\n",
    "tests.test_tokenize(tokenize)\n",
    "\n",
    "# Tokenize Example output\n",
    "text_sentences = [\n",
    "    'The quick brown fox jumps over the lazy dog .',\n",
    "    'By Jove , my quick study of lexicography won a prize .',\n",
    "    'This is a short sentence .']\n",
    "text_tokenized, text_tokenizer = tokenize(text_sentences)\n",
    "print(text_tokenizer.word_index)\n",
    "print()\n",
    "for sample_i, (sent, token_sent) in enumerate(zip(text_sentences, text_tokenized)):\n",
    "    print('Sequence {} in x'.format(sample_i + 1))\n",
    "    print('  Input:  {}'.format(sent))\n",
    "    print('  Output: {}'.format(token_sent))"
   ]
  },
  {
   "cell_type": "markdown",
   "metadata": {},
   "source": [
    "### Padding (IMPLEMENTATION)\n",
    "When batching the sequence of word ids together, each sequence needs to be the same length.  Since sentences are dynamic in length, we can add padding to the end of the sequences to make them the same length.\n",
    "\n",
    "Make sure all the English sequences have the same length and all the French sequences have the same length by adding padding to the **end** of each sequence using Keras's [`pad_sequences`](https://keras.io/preprocessing/sequence/#pad_sequences) function."
   ]
  },
  {
   "cell_type": "code",
   "execution_count": 5,
   "metadata": {},
   "outputs": [
    {
     "name": "stdout",
     "output_type": "stream",
     "text": [
      "[[ 1  2  4  5  6  7  1  8  9  0]\n",
      " [10 11 12  2 13 14 15 16  3 17]\n",
      " [18 19  3 20 21  0  0  0  0  0]]\n",
      "Sequence 1 in x\n",
      "  Input:  [1 2 4 5 6 7 1 8 9]\n",
      "  Output: [1 2 4 5 6 7 1 8 9 0]\n",
      "Sequence 2 in x\n",
      "  Input:  [10 11 12  2 13 14 15 16  3 17]\n",
      "  Output: [10 11 12  2 13 14 15 16  3 17]\n",
      "Sequence 3 in x\n",
      "  Input:  [18 19  3 20 21]\n",
      "  Output: [18 19  3 20 21  0  0  0  0  0]\n"
     ]
    }
   ],
   "source": [
    "import numpy as np\n",
    "from keras.preprocessing.sequence import pad_sequences\n",
    "\n",
    "\n",
    "def pad(x, length=None):\n",
    "    \"\"\"\n",
    "    Pad x\n",
    "    :param x: List of sequences.\n",
    "    :param length: Length to pad the sequence to.  If None, use length of longest sequence in x.\n",
    "    :return: Padded numpy array of sequences\n",
    "    \"\"\"\n",
    "    return pad_sequences(x, maxlen=length, padding='post')\n",
    "tests.test_pad(pad)\n",
    "\n",
    "# Pad Tokenized output\n",
    "test_pad = pad(text_tokenized)\n",
    "print(test_pad)\n",
    "for sample_i, (token_sent, pad_sent) in enumerate(zip(text_tokenized, test_pad)):\n",
    "    print('Sequence {} in x'.format(sample_i + 1))\n",
    "    print('  Input:  {}'.format(np.array(token_sent)))\n",
    "    print('  Output: {}'.format(pad_sent))"
   ]
  },
  {
   "cell_type": "markdown",
   "metadata": {},
   "source": [
    "### Preprocess Pipeline\n",
    "Your focus for this project is to build neural network architecture, so we won't ask you to create a preprocess pipeline.  Instead, we've provided you with the implementation of the `preprocess` function."
   ]
  },
  {
   "cell_type": "code",
   "execution_count": 6,
   "metadata": {},
   "outputs": [
    {
     "name": "stdout",
     "output_type": "stream",
     "text": [
      "Data Preprocessed\n"
     ]
    }
   ],
   "source": [
    "def preprocess(x, y):\n",
    "    \"\"\"\n",
    "    Preprocess x and y\n",
    "    :param x: Feature List of sentences\n",
    "    :param y: Label List of sentences\n",
    "    :return: Tuple of (Preprocessed x, Preprocessed y, x tokenizer, y tokenizer)\n",
    "    \"\"\"\n",
    "    preprocess_x, x_tk = tokenize(x)\n",
    "    preprocess_y, y_tk = tokenize(y)\n",
    "\n",
    "    preprocess_x = pad(preprocess_x)\n",
    "    preprocess_y = pad(preprocess_y)\n",
    "\n",
    "    # Keras's sparse_categorical_crossentropy function requires the labels to be in 3 dimensions\n",
    "    preprocess_y = preprocess_y.reshape(*preprocess_y.shape, 1)\n",
    "\n",
    "    return preprocess_x, preprocess_y, x_tk, y_tk\n",
    "\n",
    "preproc_english_sentences, preproc_french_sentences, english_tokenizer, french_tokenizer =\\\n",
    "    preprocess(english_sentences, french_sentences)\n",
    "\n",
    "print('Data Preprocessed')"
   ]
  },
  {
   "cell_type": "markdown",
   "metadata": {},
   "source": [
    "## Models\n",
    "In this section, you will experiment with various neural network architectures.\n",
    "You will begin by training four relatively simple architectures.\n",
    "- Model 1 is a simple RNN\n",
    "- Model 2 is a RNN with Embedding\n",
    "- Model 3 is a Bidirectional RNN\n",
    "- Model 4 is an optional Encoder-Decoder RNN\n",
    "\n",
    "After experimenting with the four simple architectures, you will construct a deeper architecture that is designed to outperform all four models.\n",
    "### Ids Back to Text\n",
    "The neural network will be translating the input to words ids, which isn't the final form we want.  We want the French translation.  The function `logits_to_text` will bridge the gab between the logits from the neural network to the French translation.  You'll be using this function to better understand the output of the neural network."
   ]
  },
  {
   "cell_type": "code",
   "execution_count": 7,
   "metadata": {},
   "outputs": [
    {
     "name": "stdout",
     "output_type": "stream",
     "text": [
      "`logits_to_text` function loaded.\n"
     ]
    }
   ],
   "source": [
    "def logits_to_text(logits, tokenizer):\n",
    "    \"\"\"\n",
    "    Turn logits from a neural network into text using the tokenizer\n",
    "    :param logits: Logits from a neural network\n",
    "    :param tokenizer: Keras Tokenizer fit on the labels\n",
    "    :return: String that represents the text of the logits\n",
    "    \"\"\"\n",
    "    index_to_words = {id: word for word, id in tokenizer.word_index.items()}\n",
    "    index_to_words[0] = '<PAD>'\n",
    "\n",
    "    return ' '.join([index_to_words[prediction] for prediction in np.argmax(logits, 1)])\n",
    "\n",
    "print('`logits_to_text` function loaded.')"
   ]
  },
  {
   "cell_type": "markdown",
   "metadata": {},
   "source": [
    "### Model 1: RNN (IMPLEMENTATION)\n",
    "![RNN](images/rnn.png)\n",
    "A basic RNN model is a good baseline for sequence data.  In this model, you'll build a RNN that translates English to French."
   ]
  },
  {
   "cell_type": "code",
   "execution_count": 9,
   "metadata": {},
   "outputs": [
    {
     "name": "stdout",
     "output_type": "stream",
     "text": [
      "{'fruits': 96, \"l'orange\": 84, 'plus': 23, 'grosse': 224, 'sec': 63, 'enneigée': 92, 'jaune': 133, \"l'automne\": 98, 'à': 26, 'chien': 216, 'mon': 39, 'eiffel': 273, 'entre': 161, 'pendant': 37, \"l'ours\": 262, 'mangues': 78, \"j'aime\": 135, 'gelé': 246, 'frisquet': 139, 'déteste': 94, 'clémentes': 211, 'cet': 192, 'êtes': 293, 'vieux': 183, 'pensez': 271, 'cette': 121, 'requin': 214, 'occupé': 65, 'cher': 119, 'mois': 25, 'janvier': 43, 'froid': 19, 'france': 33, 'fraises': 74, 'pas': 91, 'oiseaux': 267, 'dans': 311, 'allons': 281, 'poires': 73, 'californie': 62, 'moteur': 344, 'vont': 229, 'jersey': 34, 'as': 339, 'pense': 160, 'parfois': 8, \"d'\": 79, 'favoris': 341, 'paris': 29, 'cours': 111, 'tranquille': 117, 'vert': 182, 'new': 35, 'nouveau': 163, 'les': 4, 'juin': 41, 'lion': 218, 'congélation': 308, 'conduite': 324, 'animaux': 141, 'jamais': 9, 'a': 118, 'apprécié': 336, 'porcelaine': 301, 'août': 56, 'ses': 170, \"n'est\": 280, 'avez': 231, 'lapins': 265, \"n'aimait\": 158, 'où': 310, 'inde': 30, 'visite': 254, 'chaux': 86, 'manguiers': 298, 'aux': 173, \"l'école\": 278, 'veulent': 240, 'bénigne': 320, 'banane': 87, 'monde': 227, 'terrain': 275, 'dernière': 292, 'es': 343, 'enneigé': 322, 'aimeraient': 313, 'moindres': 323, \"qu'il\": 171, 'mais': 5, 'il': 3, 'habituellement': 69, 'allé': 223, 'tout': 326, 'gèle': 95, 'de': 22, 'pourrait': 202, 'pluie': 225, \"l'oiseau\": 260, 'brillant': 154, 'détend': 331, 'aimait': 143, 'anglais': 188, \"n'aiment\": 127, 'magnifique': 243, 'pleut': 157, 'amusant': 197, 'pluvieux': 66, 'mouillée': 321, 'ours': 219, 'volant': 230, 'vit': 329, 'maillot': 228, 'serpents': 263, 'traduis': 335, 'verts': 76, 'bananes': 75, 'voulait': 203, 'citrons': 28, 'allez': 282, 'agréable': 18, 'oranges': 72, 'petit': 184, 'envisage': 178, 'la': 7, 'favori': 93, 'mes': 191, 'gros': 200, 'rendre': 181, 'une': 120, \"c'est\": 303, 'prévois': 207, 'prévoient': 251, \"n'êtes\": 328, 'gel': 81, 'notre': 61, 'ce': 115, 'etats': 327, 'elle': 27, 'singes': 266, 't': 300, 'nos': 152, 'bien': 249, 'je': 116, 'aimés': 206, \"n'aimons\": 245, 'allée': 234, 'grandes': 304, 'septembre': 48, 'vu': 149, 'tour': 272, 'traduction': 194, 'quand': 235, 'blanc': 172, 'pêches': 71, 'est': 1, 'proches': 296, 'pamplemousses': 159, 'brillante': 174, 'prévoyons': 208, 'fruit': 16, 'visiter': 136, 'traduire': 164, 'avons': 299, 'pêche': 90, 'temps': 286, 'rouillée': 165, 'calme': 67, 'lui': 253, 'en': 2, 'intention': 210, 'comme': 199, 'chat': 213, 'des': 108, 'merveilleux': 57, 'mouillé': 195, 'automne': 24, 'que': 146, 'printemps': 42, \"l'épicerie\": 274, 'détestons': 132, 'pommes': 70, 'détestait': 247, 'était': 122, 'va': 180, \"l'\": 11, 'petite': 151, 'conduit': 113, 'mai': 47, 'du': 285, 'glaciales': 190, 'automobile': 193, 'moins': 13, 'sèche': 137, 'redoutés': 222, 'français': 189, 'animal': 109, 'éléphants': 256, \"qu'elle\": 290, 'lapin': 220, 'raisin': 82, 'au': 15, 'ils': 99, 'ne': 105, 'relaxant': 58, 'été': 46, 'citron': 85, 'rouge': 134, 'pomme': 83, 'tu': 333, 'un': 144, 'juillet': 49, 'ressort': 330, 'rouille': 288, 'poire': 88, 'trouvé': 338, 'unis': 31, 'vous': 106, 'petites': 291, 'faire': 340, 'trop': 226, 'détestez': 302, 'généralement': 12, 'limes': 317, 'lac': 277, 'pourquoi': 205, 'ont': 212, 'neigeux': 112, 'vos': 209, 'allés': 233, 'souvent': 342, \"l'automobile\": 244, 'préférés': 175, 'comment': 255, 'bleue': 162, 'pluies': 177, 'conduisait': 145, 'vers': 250, 'chinois': 187, 'serpent': 221, 'le': 10, 'préférées': 305, 'redouté': 156, 'grosses': 319, 'février': 53, 'se': 167, 'détendre': 241, 'aime': 55, 'éléphant': 237, 'hiver': 44, 'son': 20, 'prévoit': 252, 'leur': 64, 'qui': 334, 'vieille': 148, 'gelés': 325, 'pamplemousse': 38, 'redoutée': 332, 'voulaient': 239, 'neige': 102, 'états': 32, 'et': 6, 'humide': 60, 'leurs': 129, 'chine': 36, 'facile': 198, 'at': 287, 'grand': 248, 'noir': 176, 'beau': 68, 'préférée': 140, 'sur': 289, 'blanche': 155, 'octobre': 54, 'fraise': 89, 'aller': 123, 'grande': 168, 'avril': 50, 'mars': 45, 'voudrait': 295, 'aimée': 242, 'pousse': 284, \"l'éléphant\": 259, 'cheval': 215, 'pourraient': 238, 'peu': 283, 'fait': 103, 'portugais': 186, 'prochain': 114, 'verte': 150, 'grands': 316, 'camion': 110, 'rouillé': 169, 'chaude': 125, 'cépage': 270, 'chevaux': 257, 'votre': 40, \"n'aime\": 100, 'lions': 268, 'durant': 307, 'voiture': 97, 'noire': 153, 'étaient': 179, 'aimez': 130, 'douce': 306, 'décembre': 52, 'envisagent': 318, 'dernier': 142, 'occupée': 138, 'souris': 201, 'aiment': 124, 'aimé': 14, 'voulez': 312, 'plaît': 309, 'novembre': 51, 'belle': 104, \"l'animal\": 279, 'raisins': 77, 'bleu': 166, 'singe': 217, 'nous': 107, 'vais': 294, 'veut': 204, 'oiseau': 236, 'difficile': 196, 'california': 101, 'petits': 315, 'allions': 337, 'chaud': 21, 'i': 232, 'aimons': 126, \"n'aimez\": 128, 'requins': 261, 'nouvelle': 147, 'espagnol': 185, 'football': 276, 'frais': 297, 'mangue': 80, 'doux': 59, \"n'a\": 314, 'chats': 264, 'légère': 269, 'préféré': 17, 'sont': 131, 'chiens': 258}\n",
      "Train on 110288 samples, validate on 27573 samples\n",
      "Epoch 1/10\n",
      "110272/110288 [============================>.] - ETA: 0s - loss: 2.8639 - sparse_categorical_accuracy: 0.4340"
     ]
    },
    {
     "ename": "InvalidArgumentError",
     "evalue": "Received a label value of 344 which is outside the valid range of [0, 344).  Label values: 27 55 4 78 4 28 6 4 70 0 0 0 0 0 0 0 0 0 0 0 0 135 4 71 6 4 77 0 0 0 0 0 0 0 0 0 0 0 0 0 0 0 7 33 1 12 63 15 111 22 11 24 5 3 95 15 42 0 0 0 0 0 0 7 33 1 8 10 81 2 48 6 3 1 8 63 2 41 0 0 0 0 0 0 29 1 9 22 102 15 25 22 47 5 3 1 58 69 2 50 0 0 0 0 0 20 16 1 13 14 10 82 5 64 13 14 1 7 83 0 0 0 0 0 0 0 11 30 1 12 68 2 24 5 3 1 8 18 2 45 0 0 0 0 0 0 0 129 96 13 14 1 7 83 5 39 13 14 1 84 0 0 0 0 0 0 0 0 135 10 38 4 77 6 4 70 0 0 0 0 0 0 0 0 0 0 0 0 0 3 55 4 28 4 73 6 4 71 0 0 0 0 0 0 0 0 0 0 0 0 35 34 1 8 21 2 48 5 3 1 19 2 56 0 0 0 0 0 0 0 0 11 30 1 12 68 15 25 79 56 5 9 22 102 2 48 0 0 0 0 0 0 99 124 10 38 6 4 75 0 0 0 0 0 0 0 0 0 0 0 0 0 0 29 1 9 58 37 11 44 6 3 95 2 53 0 0 0 0 0 0 0 0 0 29 1 8 19 2 41 6 3 157 26 11 24 0 0 0 0 0 0 0 0 0 7 62 1 9 10 81 2 49 5 3 1 8 18 2 51 0 0 0 0 0 0 36 1 58 26 98 5 3 1 8 21 2 45 0 0 0 0 0 0 0 0 0 40 16 10 23 14 1 84 5 20 23 14 1 10 38 0 0 0 0 0 0 0 27 143 146 165 97 134 0 0 0 0 0 0 0 0 0 0 0 0 0 0 0 7 86 1 61 16 13 14 5 7 88 1 64 13 14 0 0 0 0 0 0 0 11 30 1 8 21 37 11 46 5 3 1 12 92 2 48 0 0 0 0 0 0 115 216 122 20 109 17 13 0 0 0 0 0 0 0 0 0 0 0 0 0 0 107 126 4 77 4 75 6 4 72 0 0 0 0 0 0 0 0 0 0 0 0 107 126 4 78 4 74 6 4 70 0 0 0 0 0 0 0 0 0 0 0 0 3 143 10 248 110 134 0 0 0 0 0 0 0 0 0 0 0 0 0 0 0 11 30 1 10 81 2 45 5 3 1 8 67 2 53 0 0 0 0 0 0 0 35 34 1 9 65 2 52 5 3 1 9 19 2 48 0 0 0 0 0 0 0 27 1 10 344 22 7 224 97 134 0 0 0 0 0 0 0 0 0 0 0 0 62 1 9 19 2 41 5 3 1 12 65 2 56 0 0 0 0 0 0 0 0 10 82 1 64 16 17 13 5 7 88 1 20 13 17 0 0 0 0 0 0 0 35 34 1 10 81 37 11 46 5 3 1 8 63 2 49 0 0 0 0 0 0 27 178 22 167 181 2 62 2 50 0 0 0 0 0 0 0 0 0 0 0 0 4 32 31 1 21 15 25 22 53 6 3 1 12 21 2 41 0 0 0 0 0 27 55 4 71 4 28 6 4 28 76 0 0 0 0 0 0 0 0 0 0 0 3 55 91 10 38 4 71 6 4 28 0 0 0 0 0 0 0 0 0 0 0 20 16 17 1 10 85 5 40 93 1 7 83 0 0 0 0 0 0 0 0 0 7 33 1 9 58 2 49 6 3 1 12 19 2 41 0 0 0 0 0 0 0 263 179 209 141 175 0 0 0 0 0 0 0 0 0 0 0 0 0 0 0 0 4 32 31 1 7 102 2 45 5 3 105 103 9 19 2 52 0 0 0 0 0 7 33 1 12 18 2 43 5 3 95 9 2 49 0 0 0 0 0 0 0 0 62 1 69 21 15 42 5 9 108 177 2 54 0 0 0 0 0 0 0 0 0 36 1 9 117 2 43 6 3 1 8 65 2 44 0 0 0 0 0 0 0 0 4 32 31 1 8 21 2 52 6 3 1 8 57 26 11 24 0 0 0 0 0 64 16 17 1 84 5 20 93 1 7 88 0 0 0 0 0 0 0 0 0 0 20 16 17 13 1 7 80 5 39 17 13 1 7 90 0 0 0 0 0 0 0 99 124 4 72 4 28 6 4 159 0 0 0 0 0 0 0 0 0 0 0 0 35 34 1 21 2 52 5 3 1 8 21 2 54 0 0 0 0 0 0 0 0 7 36 1 8 306 2 50 6 3 1 8 112 2 52 0 0 0 0 0 0 0 4 32 31 1 21 15 25 22 45 5 3 1 8 21 15 42 0 0 0 0 0 40 16 1 13 14 7 80 5 61 13 14 1 7 86 0 0 0 0 0 0 0 35 34 1 12 60 2 51 6 3 1 12 65 2 43 0 0 0 0 0 0 0 7 33 1 9 18 15 25 22 47 5 3 1 8 66 2 51 0 0 0 0 0 35 34 1 12 63 15 111 22 11 24 5 3 1 8 66 2 56 0 0 0 0 33 1 57 2 43 6 3 1 12 19 2 50 0 0 0 0 0 0 0 0 0 29 1 12 59 2 52 6 3 1 9 65 2 45 0 0 0 0 0 0 0 0 20 16 10 23 14 1 10 38 5 61 23 14 1 10 82 0 0 0 0 0 0 135 4 71 4 72 6 10 38 0 0 0 0 0 0 0 0 0 0 0 0 0 39 16 17 1 7 80 5 20 17 1 10 85 0 0 0 0 0 0 0 0 0 7 33 1 9 19 2 48 6 3 1 57 2 50 0 0 0 0 0 0 0 0 11 30 1 8 18 15 25 22 47 6 3 95 9 2 41 0 0 0 0 0 0 7 89 1 20 16 13 14 0 0 0 0 0 0 0 0 0 0 0 0 0 0 62 1 12 63 2 50 5 3 1 12 19 2 48 0 0 0 0 0 0 0 0 35 34 1 63 37 11 44 6 3 1 9 68 2 50 0 0 0 0 0 0 0 64 16 17 1 13 84 5 39 17 13 1 7 90 0 0 0 0 0 0 0 0\n\t [[Node: loss_3/time_distributed_4_loss/SparseSoftmaxCrossEntropyWithLogits/SparseSoftmaxCrossEntropyWithLogits = SparseSoftmaxCrossEntropyWithLogits[T=DT_FLOAT, Tlabels=DT_INT64, _device=\"/job:localhost/replica:0/task:0/cpu:0\"](loss_3/time_distributed_4_loss/Reshape_1, loss_3/time_distributed_4_loss/Cast)]]\n\nCaused by op 'loss_3/time_distributed_4_loss/SparseSoftmaxCrossEntropyWithLogits/SparseSoftmaxCrossEntropyWithLogits', defined at:\n  File \"/Users/sonlc/anaconda/envs/aind-nlp-capstone/lib/python3.5/runpy.py\", line 193, in _run_module_as_main\n    \"__main__\", mod_spec)\n  File \"/Users/sonlc/anaconda/envs/aind-nlp-capstone/lib/python3.5/runpy.py\", line 85, in _run_code\n    exec(code, run_globals)\n  File \"/Users/sonlc/anaconda/envs/aind-nlp-capstone/lib/python3.5/site-packages/ipykernel/__main__.py\", line 3, in <module>\n    app.launch_new_instance()\n  File \"/Users/sonlc/anaconda/envs/aind-nlp-capstone/lib/python3.5/site-packages/traitlets/config/application.py\", line 658, in launch_instance\n    app.start()\n  File \"/Users/sonlc/anaconda/envs/aind-nlp-capstone/lib/python3.5/site-packages/ipykernel/kernelapp.py\", line 477, in start\n    ioloop.IOLoop.instance().start()\n  File \"/Users/sonlc/anaconda/envs/aind-nlp-capstone/lib/python3.5/site-packages/zmq/eventloop/ioloop.py\", line 177, in start\n    super(ZMQIOLoop, self).start()\n  File \"/Users/sonlc/anaconda/envs/aind-nlp-capstone/lib/python3.5/site-packages/tornado/ioloop.py\", line 888, in start\n    handler_func(fd_obj, events)\n  File \"/Users/sonlc/anaconda/envs/aind-nlp-capstone/lib/python3.5/site-packages/tornado/stack_context.py\", line 277, in null_wrapper\n    return fn(*args, **kwargs)\n  File \"/Users/sonlc/anaconda/envs/aind-nlp-capstone/lib/python3.5/site-packages/zmq/eventloop/zmqstream.py\", line 440, in _handle_events\n    self._handle_recv()\n  File \"/Users/sonlc/anaconda/envs/aind-nlp-capstone/lib/python3.5/site-packages/zmq/eventloop/zmqstream.py\", line 472, in _handle_recv\n    self._run_callback(callback, msg)\n  File \"/Users/sonlc/anaconda/envs/aind-nlp-capstone/lib/python3.5/site-packages/zmq/eventloop/zmqstream.py\", line 414, in _run_callback\n    callback(*args, **kwargs)\n  File \"/Users/sonlc/anaconda/envs/aind-nlp-capstone/lib/python3.5/site-packages/tornado/stack_context.py\", line 277, in null_wrapper\n    return fn(*args, **kwargs)\n  File \"/Users/sonlc/anaconda/envs/aind-nlp-capstone/lib/python3.5/site-packages/ipykernel/kernelbase.py\", line 283, in dispatcher\n    return self.dispatch_shell(stream, msg)\n  File \"/Users/sonlc/anaconda/envs/aind-nlp-capstone/lib/python3.5/site-packages/ipykernel/kernelbase.py\", line 235, in dispatch_shell\n    handler(stream, idents, msg)\n  File \"/Users/sonlc/anaconda/envs/aind-nlp-capstone/lib/python3.5/site-packages/ipykernel/kernelbase.py\", line 399, in execute_request\n    user_expressions, allow_stdin)\n  File \"/Users/sonlc/anaconda/envs/aind-nlp-capstone/lib/python3.5/site-packages/ipykernel/ipkernel.py\", line 196, in do_execute\n    res = shell.run_cell(code, store_history=store_history, silent=silent)\n  File \"/Users/sonlc/anaconda/envs/aind-nlp-capstone/lib/python3.5/site-packages/ipykernel/zmqshell.py\", line 533, in run_cell\n    return super(ZMQInteractiveShell, self).run_cell(*args, **kwargs)\n  File \"/Users/sonlc/anaconda/envs/aind-nlp-capstone/lib/python3.5/site-packages/IPython/core/interactiveshell.py\", line 2728, in run_cell\n    interactivity=interactivity, compiler=compiler, result=result)\n  File \"/Users/sonlc/anaconda/envs/aind-nlp-capstone/lib/python3.5/site-packages/IPython/core/interactiveshell.py\", line 2850, in run_ast_nodes\n    if self.run_code(code, result):\n  File \"/Users/sonlc/anaconda/envs/aind-nlp-capstone/lib/python3.5/site-packages/IPython/core/interactiveshell.py\", line 2910, in run_code\n    exec(code_obj, self.user_global_ns, self.user_ns)\n  File \"<ipython-input-9-f768e977e644>\", line 42, in <module>\n    len(french_tokenizer.word_index))\n  File \"<ipython-input-9-f768e977e644>\", line 28, in simple_model\n    metrics=['sparse_categorical_accuracy'])\n  File \"/Users/sonlc/anaconda/envs/aind-nlp-capstone/lib/python3.5/site-packages/keras/models.py\", line 821, in compile\n    **kwargs)\n  File \"/Users/sonlc/anaconda/envs/aind-nlp-capstone/lib/python3.5/site-packages/keras/engine/training.py\", line 860, in compile\n    sample_weight, mask)\n  File \"/Users/sonlc/anaconda/envs/aind-nlp-capstone/lib/python3.5/site-packages/keras/engine/training.py\", line 459, in weighted\n    score_array = fn(y_true, y_pred)\n  File \"/Users/sonlc/anaconda/envs/aind-nlp-capstone/lib/python3.5/site-packages/keras/losses.py\", line 62, in sparse_categorical_crossentropy\n    return K.sparse_categorical_crossentropy(y_true, y_pred)\n  File \"/Users/sonlc/anaconda/envs/aind-nlp-capstone/lib/python3.5/site-packages/keras/backend/tensorflow_backend.py\", line 2922, in sparse_categorical_crossentropy\n    logits=logits)\n  File \"/Users/sonlc/anaconda/envs/aind-nlp-capstone/lib/python3.5/site-packages/tensorflow/python/ops/nn_ops.py\", line 1742, in sparse_softmax_cross_entropy_with_logits\n    precise_logits, labels, name=name)\n  File \"/Users/sonlc/anaconda/envs/aind-nlp-capstone/lib/python3.5/site-packages/tensorflow/python/ops/gen_nn_ops.py\", line 2418, in _sparse_softmax_cross_entropy_with_logits\n    features=features, labels=labels, name=name)\n  File \"/Users/sonlc/anaconda/envs/aind-nlp-capstone/lib/python3.5/site-packages/tensorflow/python/framework/op_def_library.py\", line 768, in apply_op\n    op_def=op_def)\n  File \"/Users/sonlc/anaconda/envs/aind-nlp-capstone/lib/python3.5/site-packages/tensorflow/python/framework/ops.py\", line 2336, in create_op\n    original_op=self._default_original_op, op_def=op_def)\n  File \"/Users/sonlc/anaconda/envs/aind-nlp-capstone/lib/python3.5/site-packages/tensorflow/python/framework/ops.py\", line 1228, in __init__\n    self._traceback = _extract_stack()\n\nInvalidArgumentError (see above for traceback): Received a label value of 344 which is outside the valid range of [0, 344).  Label values: 27 55 4 78 4 28 6 4 70 0 0 0 0 0 0 0 0 0 0 0 0 135 4 71 6 4 77 0 0 0 0 0 0 0 0 0 0 0 0 0 0 0 7 33 1 12 63 15 111 22 11 24 5 3 95 15 42 0 0 0 0 0 0 7 33 1 8 10 81 2 48 6 3 1 8 63 2 41 0 0 0 0 0 0 29 1 9 22 102 15 25 22 47 5 3 1 58 69 2 50 0 0 0 0 0 20 16 1 13 14 10 82 5 64 13 14 1 7 83 0 0 0 0 0 0 0 11 30 1 12 68 2 24 5 3 1 8 18 2 45 0 0 0 0 0 0 0 129 96 13 14 1 7 83 5 39 13 14 1 84 0 0 0 0 0 0 0 0 135 10 38 4 77 6 4 70 0 0 0 0 0 0 0 0 0 0 0 0 0 3 55 4 28 4 73 6 4 71 0 0 0 0 0 0 0 0 0 0 0 0 35 34 1 8 21 2 48 5 3 1 19 2 56 0 0 0 0 0 0 0 0 11 30 1 12 68 15 25 79 56 5 9 22 102 2 48 0 0 0 0 0 0 99 124 10 38 6 4 75 0 0 0 0 0 0 0 0 0 0 0 0 0 0 29 1 9 58 37 11 44 6 3 95 2 53 0 0 0 0 0 0 0 0 0 29 1 8 19 2 41 6 3 157 26 11 24 0 0 0 0 0 0 0 0 0 7 62 1 9 10 81 2 49 5 3 1 8 18 2 51 0 0 0 0 0 0 36 1 58 26 98 5 3 1 8 21 2 45 0 0 0 0 0 0 0 0 0 40 16 10 23 14 1 84 5 20 23 14 1 10 38 0 0 0 0 0 0 0 27 143 146 165 97 134 0 0 0 0 0 0 0 0 0 0 0 0 0 0 0 7 86 1 61 16 13 14 5 7 88 1 64 13 14 0 0 0 0 0 0 0 11 30 1 8 21 37 11 46 5 3 1 12 92 2 48 0 0 0 0 0 0 115 216 122 20 109 17 13 0 0 0 0 0 0 0 0 0 0 0 0 0 0 107 126 4 77 4 75 6 4 72 0 0 0 0 0 0 0 0 0 0 0 0 107 126 4 78 4 74 6 4 70 0 0 0 0 0 0 0 0 0 0 0 0 3 143 10 248 110 134 0 0 0 0 0 0 0 0 0 0 0 0 0 0 0 11 30 1 10 81 2 45 5 3 1 8 67 2 53 0 0 0 0 0 0 0 35 34 1 9 65 2 52 5 3 1 9 19 2 48 0 0 0 0 0 0 0 27 1 10 344 22 7 224 97 134 0 0 0 0 0 0 0 0 0 0 0 0 62 1 9 19 2 41 5 3 1 12 65 2 56 0 0 0 0 0 0 0 0 10 82 1 64 16 17 13 5 7 88 1 20 13 17 0 0 0 0 0 0 0 35 34 1 10 81 37 11 46 5 3 1 8 63 2 49 0 0 0 0 0 0 27 178 22 167 181 2 62 2 50 0 0 0 0 0 0 0 0 0 0 0 0 4 32 31 1 21 15 25 22 53 6 3 1 12 21 2 41 0 0 0 0 0 27 55 4 71 4 28 6 4 28 76 0 0 0 0 0 0 0 0 0 0 0 3 55 91 10 38 4 71 6 4 28 0 0 0 0 0 0 0 0 0 0 0 20 16 17 1 10 85 5 40 93 1 7 83 0 0 0 0 0 0 0 0 0 7 33 1 9 58 2 49 6 3 1 12 19 2 41 0 0 0 0 0 0 0 263 179 209 141 175 0 0 0 0 0 0 0 0 0 0 0 0 0 0 0 0 4 32 31 1 7 102 2 45 5 3 105 103 9 19 2 52 0 0 0 0 0 7 33 1 12 18 2 43 5 3 95 9 2 49 0 0 0 0 0 0 0 0 62 1 69 21 15 42 5 9 108 177 2 54 0 0 0 0 0 0 0 0 0 36 1 9 117 2 43 6 3 1 8 65 2 44 0 0 0 0 0 0 0 0 4 32 31 1 8 21 2 52 6 3 1 8 57 26 11 24 0 0 0 0 0 64 16 17 1 84 5 20 93 1 7 88 0 0 0 0 0 0 0 0 0 0 20 16 17 13 1 7 80 5 39 17 13 1 7 90 0 0 0 0 0 0 0 99 124 4 72 4 28 6 4 159 0 0 0 0 0 0 0 0 0 0 0 0 35 34 1 21 2 52 5 3 1 8 21 2 54 0 0 0 0 0 0 0 0 7 36 1 8 306 2 50 6 3 1 8 112 2 52 0 0 0 0 0 0 0 4 32 31 1 21 15 25 22 45 5 3 1 8 21 15 42 0 0 0 0 0 40 16 1 13 14 7 80 5 61 13 14 1 7 86 0 0 0 0 0 0 0 35 34 1 12 60 2 51 6 3 1 12 65 2 43 0 0 0 0 0 0 0 7 33 1 9 18 15 25 22 47 5 3 1 8 66 2 51 0 0 0 0 0 35 34 1 12 63 15 111 22 11 24 5 3 1 8 66 2 56 0 0 0 0 33 1 57 2 43 6 3 1 12 19 2 50 0 0 0 0 0 0 0 0 0 29 1 12 59 2 52 6 3 1 9 65 2 45 0 0 0 0 0 0 0 0 20 16 10 23 14 1 10 38 5 61 23 14 1 10 82 0 0 0 0 0 0 135 4 71 4 72 6 10 38 0 0 0 0 0 0 0 0 0 0 0 0 0 39 16 17 1 7 80 5 20 17 1 10 85 0 0 0 0 0 0 0 0 0 7 33 1 9 19 2 48 6 3 1 57 2 50 0 0 0 0 0 0 0 0 11 30 1 8 18 15 25 22 47 6 3 95 9 2 41 0 0 0 0 0 0 7 89 1 20 16 13 14 0 0 0 0 0 0 0 0 0 0 0 0 0 0 62 1 12 63 2 50 5 3 1 12 19 2 48 0 0 0 0 0 0 0 0 35 34 1 63 37 11 44 6 3 1 9 68 2 50 0 0 0 0 0 0 0 64 16 17 1 13 84 5 39 17 13 1 7 90 0 0 0 0 0 0 0 0\n\t [[Node: loss_3/time_distributed_4_loss/SparseSoftmaxCrossEntropyWithLogits/SparseSoftmaxCrossEntropyWithLogits = SparseSoftmaxCrossEntropyWithLogits[T=DT_FLOAT, Tlabels=DT_INT64, _device=\"/job:localhost/replica:0/task:0/cpu:0\"](loss_3/time_distributed_4_loss/Reshape_1, loss_3/time_distributed_4_loss/Cast)]]\n",
     "output_type": "error",
     "traceback": [
      "\u001b[0;31m---------------------------------------------------------------------------\u001b[0m",
      "\u001b[0;31mInvalidArgumentError\u001b[0m                      Traceback (most recent call last)",
      "\u001b[0;32m~/anaconda/envs/aind-nlp-capstone/lib/python3.5/site-packages/tensorflow/python/client/session.py\u001b[0m in \u001b[0;36m_do_call\u001b[0;34m(self, fn, *args)\u001b[0m\n\u001b[1;32m   1038\u001b[0m     \u001b[0;32mtry\u001b[0m\u001b[0;34m:\u001b[0m\u001b[0;34m\u001b[0m\u001b[0m\n\u001b[0;32m-> 1039\u001b[0;31m       \u001b[0;32mreturn\u001b[0m \u001b[0mfn\u001b[0m\u001b[0;34m(\u001b[0m\u001b[0;34m*\u001b[0m\u001b[0margs\u001b[0m\u001b[0;34m)\u001b[0m\u001b[0;34m\u001b[0m\u001b[0m\n\u001b[0m\u001b[1;32m   1040\u001b[0m     \u001b[0;32mexcept\u001b[0m \u001b[0merrors\u001b[0m\u001b[0;34m.\u001b[0m\u001b[0mOpError\u001b[0m \u001b[0;32mas\u001b[0m \u001b[0me\u001b[0m\u001b[0;34m:\u001b[0m\u001b[0;34m\u001b[0m\u001b[0m\n",
      "\u001b[0;32m~/anaconda/envs/aind-nlp-capstone/lib/python3.5/site-packages/tensorflow/python/client/session.py\u001b[0m in \u001b[0;36m_run_fn\u001b[0;34m(session, feed_dict, fetch_list, target_list, options, run_metadata)\u001b[0m\n\u001b[1;32m   1020\u001b[0m                                  \u001b[0mfeed_dict\u001b[0m\u001b[0;34m,\u001b[0m \u001b[0mfetch_list\u001b[0m\u001b[0;34m,\u001b[0m \u001b[0mtarget_list\u001b[0m\u001b[0;34m,\u001b[0m\u001b[0;34m\u001b[0m\u001b[0m\n\u001b[0;32m-> 1021\u001b[0;31m                                  status, run_metadata)\n\u001b[0m\u001b[1;32m   1022\u001b[0m \u001b[0;34m\u001b[0m\u001b[0m\n",
      "\u001b[0;32m~/anaconda/envs/aind-nlp-capstone/lib/python3.5/contextlib.py\u001b[0m in \u001b[0;36m__exit__\u001b[0;34m(self, type, value, traceback)\u001b[0m\n\u001b[1;32m     65\u001b[0m             \u001b[0;32mtry\u001b[0m\u001b[0;34m:\u001b[0m\u001b[0;34m\u001b[0m\u001b[0m\n\u001b[0;32m---> 66\u001b[0;31m                 \u001b[0mnext\u001b[0m\u001b[0;34m(\u001b[0m\u001b[0mself\u001b[0m\u001b[0;34m.\u001b[0m\u001b[0mgen\u001b[0m\u001b[0;34m)\u001b[0m\u001b[0;34m\u001b[0m\u001b[0m\n\u001b[0m\u001b[1;32m     67\u001b[0m             \u001b[0;32mexcept\u001b[0m \u001b[0mStopIteration\u001b[0m\u001b[0;34m:\u001b[0m\u001b[0;34m\u001b[0m\u001b[0m\n",
      "\u001b[0;32m~/anaconda/envs/aind-nlp-capstone/lib/python3.5/site-packages/tensorflow/python/framework/errors_impl.py\u001b[0m in \u001b[0;36mraise_exception_on_not_ok_status\u001b[0;34m()\u001b[0m\n\u001b[1;32m    465\u001b[0m           \u001b[0mcompat\u001b[0m\u001b[0;34m.\u001b[0m\u001b[0mas_text\u001b[0m\u001b[0;34m(\u001b[0m\u001b[0mpywrap_tensorflow\u001b[0m\u001b[0;34m.\u001b[0m\u001b[0mTF_Message\u001b[0m\u001b[0;34m(\u001b[0m\u001b[0mstatus\u001b[0m\u001b[0;34m)\u001b[0m\u001b[0;34m)\u001b[0m\u001b[0;34m,\u001b[0m\u001b[0;34m\u001b[0m\u001b[0m\n\u001b[0;32m--> 466\u001b[0;31m           pywrap_tensorflow.TF_GetCode(status))\n\u001b[0m\u001b[1;32m    467\u001b[0m   \u001b[0;32mfinally\u001b[0m\u001b[0;34m:\u001b[0m\u001b[0;34m\u001b[0m\u001b[0m\n",
      "\u001b[0;31mInvalidArgumentError\u001b[0m: Received a label value of 344 which is outside the valid range of [0, 344).  Label values: 27 55 4 78 4 28 6 4 70 0 0 0 0 0 0 0 0 0 0 0 0 135 4 71 6 4 77 0 0 0 0 0 0 0 0 0 0 0 0 0 0 0 7 33 1 12 63 15 111 22 11 24 5 3 95 15 42 0 0 0 0 0 0 7 33 1 8 10 81 2 48 6 3 1 8 63 2 41 0 0 0 0 0 0 29 1 9 22 102 15 25 22 47 5 3 1 58 69 2 50 0 0 0 0 0 20 16 1 13 14 10 82 5 64 13 14 1 7 83 0 0 0 0 0 0 0 11 30 1 12 68 2 24 5 3 1 8 18 2 45 0 0 0 0 0 0 0 129 96 13 14 1 7 83 5 39 13 14 1 84 0 0 0 0 0 0 0 0 135 10 38 4 77 6 4 70 0 0 0 0 0 0 0 0 0 0 0 0 0 3 55 4 28 4 73 6 4 71 0 0 0 0 0 0 0 0 0 0 0 0 35 34 1 8 21 2 48 5 3 1 19 2 56 0 0 0 0 0 0 0 0 11 30 1 12 68 15 25 79 56 5 9 22 102 2 48 0 0 0 0 0 0 99 124 10 38 6 4 75 0 0 0 0 0 0 0 0 0 0 0 0 0 0 29 1 9 58 37 11 44 6 3 95 2 53 0 0 0 0 0 0 0 0 0 29 1 8 19 2 41 6 3 157 26 11 24 0 0 0 0 0 0 0 0 0 7 62 1 9 10 81 2 49 5 3 1 8 18 2 51 0 0 0 0 0 0 36 1 58 26 98 5 3 1 8 21 2 45 0 0 0 0 0 0 0 0 0 40 16 10 23 14 1 84 5 20 23 14 1 10 38 0 0 0 0 0 0 0 27 143 146 165 97 134 0 0 0 0 0 0 0 0 0 0 0 0 0 0 0 7 86 1 61 16 13 14 5 7 88 1 64 13 14 0 0 0 0 0 0 0 11 30 1 8 21 37 11 46 5 3 1 12 92 2 48 0 0 0 0 0 0 115 216 122 20 109 17 13 0 0 0 0 0 0 0 0 0 0 0 0 0 0 107 126 4 77 4 75 6 4 72 0 0 0 0 0 0 0 0 0 0 0 0 107 126 4 78 4 74 6 4 70 0 0 0 0 0 0 0 0 0 0 0 0 3 143 10 248 110 134 0 0 0 0 0 0 0 0 0 0 0 0 0 0 0 11 30 1 10 81 2 45 5 3 1 8 67 2 53 0 0 0 0 0 0 0 35 34 1 9 65 2 52 5 3 1 9 19 2 48 0 0 0 0 0 0 0 27 1 10 344 22 7 224 97 134 0 0 0 0 0 0 0 0 0 0 0 0 62 1 9 19 2 41 5 3 1 12 65 2 56 0 0 0 0 0 0 0 0 10 82 1 64 16 17 13 5 7 88 1 20 13 17 0 0 0 0 0 0 0 35 34 1 10 81 37 11 46 5 3 1 8 63 2 49 0 0 0 0 0 0 27 178 22 167 181 2 62 2 50 0 0 0 0 0 0 0 0 0 0 0 0 4 32 31 1 21 15 25 22 53 6 3 1 12 21 2 41 0 0 0 0 0 27 55 4 71 4 28 6 4 28 76 0 0 0 0 0 0 0 0 0 0 0 3 55 91 10 38 4 71 6 4 28 0 0 0 0 0 0 0 0 0 0 0 20 16 17 1 10 85 5 40 93 1 7 83 0 0 0 0 0 0 0 0 0 7 33 1 9 58 2 49 6 3 1 12 19 2 41 0 0 0 0 0 0 0 263 179 209 141 175 0 0 0 0 0 0 0 0 0 0 0 0 0 0 0 0 4 32 31 1 7 102 2 45 5 3 105 103 9 19 2 52 0 0 0 0 0 7 33 1 12 18 2 43 5 3 95 9 2 49 0 0 0 0 0 0 0 0 62 1 69 21 15 42 5 9 108 177 2 54 0 0 0 0 0 0 0 0 0 36 1 9 117 2 43 6 3 1 8 65 2 44 0 0 0 0 0 0 0 0 4 32 31 1 8 21 2 52 6 3 1 8 57 26 11 24 0 0 0 0 0 64 16 17 1 84 5 20 93 1 7 88 0 0 0 0 0 0 0 0 0 0 20 16 17 13 1 7 80 5 39 17 13 1 7 90 0 0 0 0 0 0 0 99 124 4 72 4 28 6 4 159 0 0 0 0 0 0 0 0 0 0 0 0 35 34 1 21 2 52 5 3 1 8 21 2 54 0 0 0 0 0 0 0 0 7 36 1 8 306 2 50 6 3 1 8 112 2 52 0 0 0 0 0 0 0 4 32 31 1 21 15 25 22 45 5 3 1 8 21 15 42 0 0 0 0 0 40 16 1 13 14 7 80 5 61 13 14 1 7 86 0 0 0 0 0 0 0 35 34 1 12 60 2 51 6 3 1 12 65 2 43 0 0 0 0 0 0 0 7 33 1 9 18 15 25 22 47 5 3 1 8 66 2 51 0 0 0 0 0 35 34 1 12 63 15 111 22 11 24 5 3 1 8 66 2 56 0 0 0 0 33 1 57 2 43 6 3 1 12 19 2 50 0 0 0 0 0 0 0 0 0 29 1 12 59 2 52 6 3 1 9 65 2 45 0 0 0 0 0 0 0 0 20 16 10 23 14 1 10 38 5 61 23 14 1 10 82 0 0 0 0 0 0 135 4 71 4 72 6 10 38 0 0 0 0 0 0 0 0 0 0 0 0 0 39 16 17 1 7 80 5 20 17 1 10 85 0 0 0 0 0 0 0 0 0 7 33 1 9 19 2 48 6 3 1 57 2 50 0 0 0 0 0 0 0 0 11 30 1 8 18 15 25 22 47 6 3 95 9 2 41 0 0 0 0 0 0 7 89 1 20 16 13 14 0 0 0 0 0 0 0 0 0 0 0 0 0 0 62 1 12 63 2 50 5 3 1 12 19 2 48 0 0 0 0 0 0 0 0 35 34 1 63 37 11 44 6 3 1 9 68 2 50 0 0 0 0 0 0 0 64 16 17 1 13 84 5 39 17 13 1 7 90 0 0 0 0 0 0 0 0\n\t [[Node: loss_3/time_distributed_4_loss/SparseSoftmaxCrossEntropyWithLogits/SparseSoftmaxCrossEntropyWithLogits = SparseSoftmaxCrossEntropyWithLogits[T=DT_FLOAT, Tlabels=DT_INT64, _device=\"/job:localhost/replica:0/task:0/cpu:0\"](loss_3/time_distributed_4_loss/Reshape_1, loss_3/time_distributed_4_loss/Cast)]]",
      "\nDuring handling of the above exception, another exception occurred:\n",
      "\u001b[0;31mInvalidArgumentError\u001b[0m                      Traceback (most recent call last)",
      "\u001b[0;32m<ipython-input-9-f768e977e644>\u001b[0m in \u001b[0;36m<module>\u001b[0;34m()\u001b[0m\n\u001b[1;32m     41\u001b[0m     \u001b[0mlen\u001b[0m\u001b[0;34m(\u001b[0m\u001b[0menglish_tokenizer\u001b[0m\u001b[0;34m.\u001b[0m\u001b[0mword_index\u001b[0m\u001b[0;34m)\u001b[0m\u001b[0;34m,\u001b[0m\u001b[0;34m\u001b[0m\u001b[0m\n\u001b[1;32m     42\u001b[0m     len(french_tokenizer.word_index))\n\u001b[0;32m---> 43\u001b[0;31m \u001b[0msimple_rnn_model\u001b[0m\u001b[0;34m.\u001b[0m\u001b[0mfit\u001b[0m\u001b[0;34m(\u001b[0m\u001b[0mtmp_x\u001b[0m\u001b[0;34m,\u001b[0m \u001b[0mpreproc_french_sentences\u001b[0m\u001b[0;34m,\u001b[0m \u001b[0mbatch_size\u001b[0m\u001b[0;34m=\u001b[0m\u001b[0;36m64\u001b[0m\u001b[0;34m,\u001b[0m \u001b[0mepochs\u001b[0m\u001b[0;34m=\u001b[0m\u001b[0;36m10\u001b[0m\u001b[0;34m,\u001b[0m \u001b[0mvalidation_split\u001b[0m\u001b[0;34m=\u001b[0m\u001b[0;36m0.2\u001b[0m\u001b[0;34m)\u001b[0m\u001b[0;34m\u001b[0m\u001b[0m\n\u001b[0m\u001b[1;32m     44\u001b[0m \u001b[0;34m\u001b[0m\u001b[0m\n\u001b[1;32m     45\u001b[0m \u001b[0;31m# Print prediction(s)\u001b[0m\u001b[0;34m\u001b[0m\u001b[0;34m\u001b[0m\u001b[0m\n",
      "\u001b[0;32m~/anaconda/envs/aind-nlp-capstone/lib/python3.5/site-packages/keras/models.py\u001b[0m in \u001b[0;36mfit\u001b[0;34m(self, x, y, batch_size, epochs, verbose, callbacks, validation_split, validation_data, shuffle, class_weight, sample_weight, initial_epoch, steps_per_epoch, validation_steps, **kwargs)\u001b[0m\n\u001b[1;32m    958\u001b[0m                               \u001b[0minitial_epoch\u001b[0m\u001b[0;34m=\u001b[0m\u001b[0minitial_epoch\u001b[0m\u001b[0;34m,\u001b[0m\u001b[0;34m\u001b[0m\u001b[0m\n\u001b[1;32m    959\u001b[0m                               \u001b[0msteps_per_epoch\u001b[0m\u001b[0;34m=\u001b[0m\u001b[0msteps_per_epoch\u001b[0m\u001b[0;34m,\u001b[0m\u001b[0;34m\u001b[0m\u001b[0m\n\u001b[0;32m--> 960\u001b[0;31m                               validation_steps=validation_steps)\n\u001b[0m\u001b[1;32m    961\u001b[0m \u001b[0;34m\u001b[0m\u001b[0m\n\u001b[1;32m    962\u001b[0m     def evaluate(self, x, y, batch_size=32, verbose=1,\n",
      "\u001b[0;32m~/anaconda/envs/aind-nlp-capstone/lib/python3.5/site-packages/keras/engine/training.py\u001b[0m in \u001b[0;36mfit\u001b[0;34m(self, x, y, batch_size, epochs, verbose, callbacks, validation_split, validation_data, shuffle, class_weight, sample_weight, initial_epoch, steps_per_epoch, validation_steps, **kwargs)\u001b[0m\n\u001b[1;32m   1655\u001b[0m                               \u001b[0minitial_epoch\u001b[0m\u001b[0;34m=\u001b[0m\u001b[0minitial_epoch\u001b[0m\u001b[0;34m,\u001b[0m\u001b[0;34m\u001b[0m\u001b[0m\n\u001b[1;32m   1656\u001b[0m                               \u001b[0msteps_per_epoch\u001b[0m\u001b[0;34m=\u001b[0m\u001b[0msteps_per_epoch\u001b[0m\u001b[0;34m,\u001b[0m\u001b[0;34m\u001b[0m\u001b[0m\n\u001b[0;32m-> 1657\u001b[0;31m                               validation_steps=validation_steps)\n\u001b[0m\u001b[1;32m   1658\u001b[0m \u001b[0;34m\u001b[0m\u001b[0m\n\u001b[1;32m   1659\u001b[0m     def evaluate(self, x=None, y=None,\n",
      "\u001b[0;32m~/anaconda/envs/aind-nlp-capstone/lib/python3.5/site-packages/keras/engine/training.py\u001b[0m in \u001b[0;36m_fit_loop\u001b[0;34m(self, f, ins, out_labels, batch_size, epochs, verbose, callbacks, val_f, val_ins, shuffle, callback_metrics, initial_epoch, steps_per_epoch, validation_steps)\u001b[0m\n\u001b[1;32m   1225\u001b[0m                             val_outs = self._test_loop(val_f, val_ins,\n\u001b[1;32m   1226\u001b[0m                                                        \u001b[0mbatch_size\u001b[0m\u001b[0;34m=\u001b[0m\u001b[0mbatch_size\u001b[0m\u001b[0;34m,\u001b[0m\u001b[0;34m\u001b[0m\u001b[0m\n\u001b[0;32m-> 1227\u001b[0;31m                                                        verbose=0)\n\u001b[0m\u001b[1;32m   1228\u001b[0m                             \u001b[0;32mif\u001b[0m \u001b[0;32mnot\u001b[0m \u001b[0misinstance\u001b[0m\u001b[0;34m(\u001b[0m\u001b[0mval_outs\u001b[0m\u001b[0;34m,\u001b[0m \u001b[0mlist\u001b[0m\u001b[0;34m)\u001b[0m\u001b[0;34m:\u001b[0m\u001b[0;34m\u001b[0m\u001b[0m\n\u001b[1;32m   1229\u001b[0m                                 \u001b[0mval_outs\u001b[0m \u001b[0;34m=\u001b[0m \u001b[0;34m[\u001b[0m\u001b[0mval_outs\u001b[0m\u001b[0;34m]\u001b[0m\u001b[0;34m\u001b[0m\u001b[0m\n",
      "\u001b[0;32m~/anaconda/envs/aind-nlp-capstone/lib/python3.5/site-packages/keras/engine/training.py\u001b[0m in \u001b[0;36m_test_loop\u001b[0;34m(self, f, ins, batch_size, verbose, steps)\u001b[0m\n\u001b[1;32m   1368\u001b[0m                     \u001b[0mins_batch\u001b[0m \u001b[0;34m=\u001b[0m \u001b[0m_slice_arrays\u001b[0m\u001b[0;34m(\u001b[0m\u001b[0mins\u001b[0m\u001b[0;34m,\u001b[0m \u001b[0mbatch_ids\u001b[0m\u001b[0;34m)\u001b[0m\u001b[0;34m\u001b[0m\u001b[0m\n\u001b[1;32m   1369\u001b[0m \u001b[0;34m\u001b[0m\u001b[0m\n\u001b[0;32m-> 1370\u001b[0;31m                 \u001b[0mbatch_outs\u001b[0m \u001b[0;34m=\u001b[0m \u001b[0mf\u001b[0m\u001b[0;34m(\u001b[0m\u001b[0mins_batch\u001b[0m\u001b[0;34m)\u001b[0m\u001b[0;34m\u001b[0m\u001b[0m\n\u001b[0m\u001b[1;32m   1371\u001b[0m                 \u001b[0;32mif\u001b[0m \u001b[0misinstance\u001b[0m\u001b[0;34m(\u001b[0m\u001b[0mbatch_outs\u001b[0m\u001b[0;34m,\u001b[0m \u001b[0mlist\u001b[0m\u001b[0;34m)\u001b[0m\u001b[0;34m:\u001b[0m\u001b[0;34m\u001b[0m\u001b[0m\n\u001b[1;32m   1372\u001b[0m                     \u001b[0;32mif\u001b[0m \u001b[0mbatch_index\u001b[0m \u001b[0;34m==\u001b[0m \u001b[0;36m0\u001b[0m\u001b[0;34m:\u001b[0m\u001b[0;34m\u001b[0m\u001b[0m\n",
      "\u001b[0;32m~/anaconda/envs/aind-nlp-capstone/lib/python3.5/site-packages/keras/backend/tensorflow_backend.py\u001b[0m in \u001b[0;36m__call__\u001b[0;34m(self, inputs)\u001b[0m\n\u001b[1;32m   2355\u001b[0m         \u001b[0msession\u001b[0m \u001b[0;34m=\u001b[0m \u001b[0mget_session\u001b[0m\u001b[0;34m(\u001b[0m\u001b[0;34m)\u001b[0m\u001b[0;34m\u001b[0m\u001b[0m\n\u001b[1;32m   2356\u001b[0m         updated = session.run(fetches=fetches, feed_dict=feed_dict,\n\u001b[0;32m-> 2357\u001b[0;31m                               **self.session_kwargs)\n\u001b[0m\u001b[1;32m   2358\u001b[0m         \u001b[0;32mreturn\u001b[0m \u001b[0mupdated\u001b[0m\u001b[0;34m[\u001b[0m\u001b[0;34m:\u001b[0m\u001b[0mlen\u001b[0m\u001b[0;34m(\u001b[0m\u001b[0mself\u001b[0m\u001b[0;34m.\u001b[0m\u001b[0moutputs\u001b[0m\u001b[0;34m)\u001b[0m\u001b[0;34m]\u001b[0m\u001b[0;34m\u001b[0m\u001b[0m\n\u001b[1;32m   2359\u001b[0m \u001b[0;34m\u001b[0m\u001b[0m\n",
      "\u001b[0;32m~/anaconda/envs/aind-nlp-capstone/lib/python3.5/site-packages/tensorflow/python/client/session.py\u001b[0m in \u001b[0;36mrun\u001b[0;34m(self, fetches, feed_dict, options, run_metadata)\u001b[0m\n\u001b[1;32m    776\u001b[0m     \u001b[0;32mtry\u001b[0m\u001b[0;34m:\u001b[0m\u001b[0;34m\u001b[0m\u001b[0m\n\u001b[1;32m    777\u001b[0m       result = self._run(None, fetches, feed_dict, options_ptr,\n\u001b[0;32m--> 778\u001b[0;31m                          run_metadata_ptr)\n\u001b[0m\u001b[1;32m    779\u001b[0m       \u001b[0;32mif\u001b[0m \u001b[0mrun_metadata\u001b[0m\u001b[0;34m:\u001b[0m\u001b[0;34m\u001b[0m\u001b[0m\n\u001b[1;32m    780\u001b[0m         \u001b[0mproto_data\u001b[0m \u001b[0;34m=\u001b[0m \u001b[0mtf_session\u001b[0m\u001b[0;34m.\u001b[0m\u001b[0mTF_GetBuffer\u001b[0m\u001b[0;34m(\u001b[0m\u001b[0mrun_metadata_ptr\u001b[0m\u001b[0;34m)\u001b[0m\u001b[0;34m\u001b[0m\u001b[0m\n",
      "\u001b[0;32m~/anaconda/envs/aind-nlp-capstone/lib/python3.5/site-packages/tensorflow/python/client/session.py\u001b[0m in \u001b[0;36m_run\u001b[0;34m(self, handle, fetches, feed_dict, options, run_metadata)\u001b[0m\n\u001b[1;32m    980\u001b[0m     \u001b[0;32mif\u001b[0m \u001b[0mfinal_fetches\u001b[0m \u001b[0;32mor\u001b[0m \u001b[0mfinal_targets\u001b[0m\u001b[0;34m:\u001b[0m\u001b[0;34m\u001b[0m\u001b[0m\n\u001b[1;32m    981\u001b[0m       results = self._do_run(handle, final_targets, final_fetches,\n\u001b[0;32m--> 982\u001b[0;31m                              feed_dict_string, options, run_metadata)\n\u001b[0m\u001b[1;32m    983\u001b[0m     \u001b[0;32melse\u001b[0m\u001b[0;34m:\u001b[0m\u001b[0;34m\u001b[0m\u001b[0m\n\u001b[1;32m    984\u001b[0m       \u001b[0mresults\u001b[0m \u001b[0;34m=\u001b[0m \u001b[0;34m[\u001b[0m\u001b[0;34m]\u001b[0m\u001b[0;34m\u001b[0m\u001b[0m\n",
      "\u001b[0;32m~/anaconda/envs/aind-nlp-capstone/lib/python3.5/site-packages/tensorflow/python/client/session.py\u001b[0m in \u001b[0;36m_do_run\u001b[0;34m(self, handle, target_list, fetch_list, feed_dict, options, run_metadata)\u001b[0m\n\u001b[1;32m   1030\u001b[0m     \u001b[0;32mif\u001b[0m \u001b[0mhandle\u001b[0m \u001b[0;32mis\u001b[0m \u001b[0;32mNone\u001b[0m\u001b[0;34m:\u001b[0m\u001b[0;34m\u001b[0m\u001b[0m\n\u001b[1;32m   1031\u001b[0m       return self._do_call(_run_fn, self._session, feed_dict, fetch_list,\n\u001b[0;32m-> 1032\u001b[0;31m                            target_list, options, run_metadata)\n\u001b[0m\u001b[1;32m   1033\u001b[0m     \u001b[0;32melse\u001b[0m\u001b[0;34m:\u001b[0m\u001b[0;34m\u001b[0m\u001b[0m\n\u001b[1;32m   1034\u001b[0m       return self._do_call(_prun_fn, self._session, handle, feed_dict,\n",
      "\u001b[0;32m~/anaconda/envs/aind-nlp-capstone/lib/python3.5/site-packages/tensorflow/python/client/session.py\u001b[0m in \u001b[0;36m_do_call\u001b[0;34m(self, fn, *args)\u001b[0m\n\u001b[1;32m   1050\u001b[0m         \u001b[0;32mexcept\u001b[0m \u001b[0mKeyError\u001b[0m\u001b[0;34m:\u001b[0m\u001b[0;34m\u001b[0m\u001b[0m\n\u001b[1;32m   1051\u001b[0m           \u001b[0;32mpass\u001b[0m\u001b[0;34m\u001b[0m\u001b[0m\n\u001b[0;32m-> 1052\u001b[0;31m       \u001b[0;32mraise\u001b[0m \u001b[0mtype\u001b[0m\u001b[0;34m(\u001b[0m\u001b[0me\u001b[0m\u001b[0;34m)\u001b[0m\u001b[0;34m(\u001b[0m\u001b[0mnode_def\u001b[0m\u001b[0;34m,\u001b[0m \u001b[0mop\u001b[0m\u001b[0;34m,\u001b[0m \u001b[0mmessage\u001b[0m\u001b[0;34m)\u001b[0m\u001b[0;34m\u001b[0m\u001b[0m\n\u001b[0m\u001b[1;32m   1053\u001b[0m \u001b[0;34m\u001b[0m\u001b[0m\n\u001b[1;32m   1054\u001b[0m   \u001b[0;32mdef\u001b[0m \u001b[0m_extend_graph\u001b[0m\u001b[0;34m(\u001b[0m\u001b[0mself\u001b[0m\u001b[0;34m)\u001b[0m\u001b[0;34m:\u001b[0m\u001b[0;34m\u001b[0m\u001b[0m\n",
      "\u001b[0;31mInvalidArgumentError\u001b[0m: Received a label value of 344 which is outside the valid range of [0, 344).  Label values: 27 55 4 78 4 28 6 4 70 0 0 0 0 0 0 0 0 0 0 0 0 135 4 71 6 4 77 0 0 0 0 0 0 0 0 0 0 0 0 0 0 0 7 33 1 12 63 15 111 22 11 24 5 3 95 15 42 0 0 0 0 0 0 7 33 1 8 10 81 2 48 6 3 1 8 63 2 41 0 0 0 0 0 0 29 1 9 22 102 15 25 22 47 5 3 1 58 69 2 50 0 0 0 0 0 20 16 1 13 14 10 82 5 64 13 14 1 7 83 0 0 0 0 0 0 0 11 30 1 12 68 2 24 5 3 1 8 18 2 45 0 0 0 0 0 0 0 129 96 13 14 1 7 83 5 39 13 14 1 84 0 0 0 0 0 0 0 0 135 10 38 4 77 6 4 70 0 0 0 0 0 0 0 0 0 0 0 0 0 3 55 4 28 4 73 6 4 71 0 0 0 0 0 0 0 0 0 0 0 0 35 34 1 8 21 2 48 5 3 1 19 2 56 0 0 0 0 0 0 0 0 11 30 1 12 68 15 25 79 56 5 9 22 102 2 48 0 0 0 0 0 0 99 124 10 38 6 4 75 0 0 0 0 0 0 0 0 0 0 0 0 0 0 29 1 9 58 37 11 44 6 3 95 2 53 0 0 0 0 0 0 0 0 0 29 1 8 19 2 41 6 3 157 26 11 24 0 0 0 0 0 0 0 0 0 7 62 1 9 10 81 2 49 5 3 1 8 18 2 51 0 0 0 0 0 0 36 1 58 26 98 5 3 1 8 21 2 45 0 0 0 0 0 0 0 0 0 40 16 10 23 14 1 84 5 20 23 14 1 10 38 0 0 0 0 0 0 0 27 143 146 165 97 134 0 0 0 0 0 0 0 0 0 0 0 0 0 0 0 7 86 1 61 16 13 14 5 7 88 1 64 13 14 0 0 0 0 0 0 0 11 30 1 8 21 37 11 46 5 3 1 12 92 2 48 0 0 0 0 0 0 115 216 122 20 109 17 13 0 0 0 0 0 0 0 0 0 0 0 0 0 0 107 126 4 77 4 75 6 4 72 0 0 0 0 0 0 0 0 0 0 0 0 107 126 4 78 4 74 6 4 70 0 0 0 0 0 0 0 0 0 0 0 0 3 143 10 248 110 134 0 0 0 0 0 0 0 0 0 0 0 0 0 0 0 11 30 1 10 81 2 45 5 3 1 8 67 2 53 0 0 0 0 0 0 0 35 34 1 9 65 2 52 5 3 1 9 19 2 48 0 0 0 0 0 0 0 27 1 10 344 22 7 224 97 134 0 0 0 0 0 0 0 0 0 0 0 0 62 1 9 19 2 41 5 3 1 12 65 2 56 0 0 0 0 0 0 0 0 10 82 1 64 16 17 13 5 7 88 1 20 13 17 0 0 0 0 0 0 0 35 34 1 10 81 37 11 46 5 3 1 8 63 2 49 0 0 0 0 0 0 27 178 22 167 181 2 62 2 50 0 0 0 0 0 0 0 0 0 0 0 0 4 32 31 1 21 15 25 22 53 6 3 1 12 21 2 41 0 0 0 0 0 27 55 4 71 4 28 6 4 28 76 0 0 0 0 0 0 0 0 0 0 0 3 55 91 10 38 4 71 6 4 28 0 0 0 0 0 0 0 0 0 0 0 20 16 17 1 10 85 5 40 93 1 7 83 0 0 0 0 0 0 0 0 0 7 33 1 9 58 2 49 6 3 1 12 19 2 41 0 0 0 0 0 0 0 263 179 209 141 175 0 0 0 0 0 0 0 0 0 0 0 0 0 0 0 0 4 32 31 1 7 102 2 45 5 3 105 103 9 19 2 52 0 0 0 0 0 7 33 1 12 18 2 43 5 3 95 9 2 49 0 0 0 0 0 0 0 0 62 1 69 21 15 42 5 9 108 177 2 54 0 0 0 0 0 0 0 0 0 36 1 9 117 2 43 6 3 1 8 65 2 44 0 0 0 0 0 0 0 0 4 32 31 1 8 21 2 52 6 3 1 8 57 26 11 24 0 0 0 0 0 64 16 17 1 84 5 20 93 1 7 88 0 0 0 0 0 0 0 0 0 0 20 16 17 13 1 7 80 5 39 17 13 1 7 90 0 0 0 0 0 0 0 99 124 4 72 4 28 6 4 159 0 0 0 0 0 0 0 0 0 0 0 0 35 34 1 21 2 52 5 3 1 8 21 2 54 0 0 0 0 0 0 0 0 7 36 1 8 306 2 50 6 3 1 8 112 2 52 0 0 0 0 0 0 0 4 32 31 1 21 15 25 22 45 5 3 1 8 21 15 42 0 0 0 0 0 40 16 1 13 14 7 80 5 61 13 14 1 7 86 0 0 0 0 0 0 0 35 34 1 12 60 2 51 6 3 1 12 65 2 43 0 0 0 0 0 0 0 7 33 1 9 18 15 25 22 47 5 3 1 8 66 2 51 0 0 0 0 0 35 34 1 12 63 15 111 22 11 24 5 3 1 8 66 2 56 0 0 0 0 33 1 57 2 43 6 3 1 12 19 2 50 0 0 0 0 0 0 0 0 0 29 1 12 59 2 52 6 3 1 9 65 2 45 0 0 0 0 0 0 0 0 20 16 10 23 14 1 10 38 5 61 23 14 1 10 82 0 0 0 0 0 0 135 4 71 4 72 6 10 38 0 0 0 0 0 0 0 0 0 0 0 0 0 39 16 17 1 7 80 5 20 17 1 10 85 0 0 0 0 0 0 0 0 0 7 33 1 9 19 2 48 6 3 1 57 2 50 0 0 0 0 0 0 0 0 11 30 1 8 18 15 25 22 47 6 3 95 9 2 41 0 0 0 0 0 0 7 89 1 20 16 13 14 0 0 0 0 0 0 0 0 0 0 0 0 0 0 62 1 12 63 2 50 5 3 1 12 19 2 48 0 0 0 0 0 0 0 0 35 34 1 63 37 11 44 6 3 1 9 68 2 50 0 0 0 0 0 0 0 64 16 17 1 13 84 5 39 17 13 1 7 90 0 0 0 0 0 0 0 0\n\t [[Node: loss_3/time_distributed_4_loss/SparseSoftmaxCrossEntropyWithLogits/SparseSoftmaxCrossEntropyWithLogits = SparseSoftmaxCrossEntropyWithLogits[T=DT_FLOAT, Tlabels=DT_INT64, _device=\"/job:localhost/replica:0/task:0/cpu:0\"](loss_3/time_distributed_4_loss/Reshape_1, loss_3/time_distributed_4_loss/Cast)]]\n\nCaused by op 'loss_3/time_distributed_4_loss/SparseSoftmaxCrossEntropyWithLogits/SparseSoftmaxCrossEntropyWithLogits', defined at:\n  File \"/Users/sonlc/anaconda/envs/aind-nlp-capstone/lib/python3.5/runpy.py\", line 193, in _run_module_as_main\n    \"__main__\", mod_spec)\n  File \"/Users/sonlc/anaconda/envs/aind-nlp-capstone/lib/python3.5/runpy.py\", line 85, in _run_code\n    exec(code, run_globals)\n  File \"/Users/sonlc/anaconda/envs/aind-nlp-capstone/lib/python3.5/site-packages/ipykernel/__main__.py\", line 3, in <module>\n    app.launch_new_instance()\n  File \"/Users/sonlc/anaconda/envs/aind-nlp-capstone/lib/python3.5/site-packages/traitlets/config/application.py\", line 658, in launch_instance\n    app.start()\n  File \"/Users/sonlc/anaconda/envs/aind-nlp-capstone/lib/python3.5/site-packages/ipykernel/kernelapp.py\", line 477, in start\n    ioloop.IOLoop.instance().start()\n  File \"/Users/sonlc/anaconda/envs/aind-nlp-capstone/lib/python3.5/site-packages/zmq/eventloop/ioloop.py\", line 177, in start\n    super(ZMQIOLoop, self).start()\n  File \"/Users/sonlc/anaconda/envs/aind-nlp-capstone/lib/python3.5/site-packages/tornado/ioloop.py\", line 888, in start\n    handler_func(fd_obj, events)\n  File \"/Users/sonlc/anaconda/envs/aind-nlp-capstone/lib/python3.5/site-packages/tornado/stack_context.py\", line 277, in null_wrapper\n    return fn(*args, **kwargs)\n  File \"/Users/sonlc/anaconda/envs/aind-nlp-capstone/lib/python3.5/site-packages/zmq/eventloop/zmqstream.py\", line 440, in _handle_events\n    self._handle_recv()\n  File \"/Users/sonlc/anaconda/envs/aind-nlp-capstone/lib/python3.5/site-packages/zmq/eventloop/zmqstream.py\", line 472, in _handle_recv\n    self._run_callback(callback, msg)\n  File \"/Users/sonlc/anaconda/envs/aind-nlp-capstone/lib/python3.5/site-packages/zmq/eventloop/zmqstream.py\", line 414, in _run_callback\n    callback(*args, **kwargs)\n  File \"/Users/sonlc/anaconda/envs/aind-nlp-capstone/lib/python3.5/site-packages/tornado/stack_context.py\", line 277, in null_wrapper\n    return fn(*args, **kwargs)\n  File \"/Users/sonlc/anaconda/envs/aind-nlp-capstone/lib/python3.5/site-packages/ipykernel/kernelbase.py\", line 283, in dispatcher\n    return self.dispatch_shell(stream, msg)\n  File \"/Users/sonlc/anaconda/envs/aind-nlp-capstone/lib/python3.5/site-packages/ipykernel/kernelbase.py\", line 235, in dispatch_shell\n    handler(stream, idents, msg)\n  File \"/Users/sonlc/anaconda/envs/aind-nlp-capstone/lib/python3.5/site-packages/ipykernel/kernelbase.py\", line 399, in execute_request\n    user_expressions, allow_stdin)\n  File \"/Users/sonlc/anaconda/envs/aind-nlp-capstone/lib/python3.5/site-packages/ipykernel/ipkernel.py\", line 196, in do_execute\n    res = shell.run_cell(code, store_history=store_history, silent=silent)\n  File \"/Users/sonlc/anaconda/envs/aind-nlp-capstone/lib/python3.5/site-packages/ipykernel/zmqshell.py\", line 533, in run_cell\n    return super(ZMQInteractiveShell, self).run_cell(*args, **kwargs)\n  File \"/Users/sonlc/anaconda/envs/aind-nlp-capstone/lib/python3.5/site-packages/IPython/core/interactiveshell.py\", line 2728, in run_cell\n    interactivity=interactivity, compiler=compiler, result=result)\n  File \"/Users/sonlc/anaconda/envs/aind-nlp-capstone/lib/python3.5/site-packages/IPython/core/interactiveshell.py\", line 2850, in run_ast_nodes\n    if self.run_code(code, result):\n  File \"/Users/sonlc/anaconda/envs/aind-nlp-capstone/lib/python3.5/site-packages/IPython/core/interactiveshell.py\", line 2910, in run_code\n    exec(code_obj, self.user_global_ns, self.user_ns)\n  File \"<ipython-input-9-f768e977e644>\", line 42, in <module>\n    len(french_tokenizer.word_index))\n  File \"<ipython-input-9-f768e977e644>\", line 28, in simple_model\n    metrics=['sparse_categorical_accuracy'])\n  File \"/Users/sonlc/anaconda/envs/aind-nlp-capstone/lib/python3.5/site-packages/keras/models.py\", line 821, in compile\n    **kwargs)\n  File \"/Users/sonlc/anaconda/envs/aind-nlp-capstone/lib/python3.5/site-packages/keras/engine/training.py\", line 860, in compile\n    sample_weight, mask)\n  File \"/Users/sonlc/anaconda/envs/aind-nlp-capstone/lib/python3.5/site-packages/keras/engine/training.py\", line 459, in weighted\n    score_array = fn(y_true, y_pred)\n  File \"/Users/sonlc/anaconda/envs/aind-nlp-capstone/lib/python3.5/site-packages/keras/losses.py\", line 62, in sparse_categorical_crossentropy\n    return K.sparse_categorical_crossentropy(y_true, y_pred)\n  File \"/Users/sonlc/anaconda/envs/aind-nlp-capstone/lib/python3.5/site-packages/keras/backend/tensorflow_backend.py\", line 2922, in sparse_categorical_crossentropy\n    logits=logits)\n  File \"/Users/sonlc/anaconda/envs/aind-nlp-capstone/lib/python3.5/site-packages/tensorflow/python/ops/nn_ops.py\", line 1742, in sparse_softmax_cross_entropy_with_logits\n    precise_logits, labels, name=name)\n  File \"/Users/sonlc/anaconda/envs/aind-nlp-capstone/lib/python3.5/site-packages/tensorflow/python/ops/gen_nn_ops.py\", line 2418, in _sparse_softmax_cross_entropy_with_logits\n    features=features, labels=labels, name=name)\n  File \"/Users/sonlc/anaconda/envs/aind-nlp-capstone/lib/python3.5/site-packages/tensorflow/python/framework/op_def_library.py\", line 768, in apply_op\n    op_def=op_def)\n  File \"/Users/sonlc/anaconda/envs/aind-nlp-capstone/lib/python3.5/site-packages/tensorflow/python/framework/ops.py\", line 2336, in create_op\n    original_op=self._default_original_op, op_def=op_def)\n  File \"/Users/sonlc/anaconda/envs/aind-nlp-capstone/lib/python3.5/site-packages/tensorflow/python/framework/ops.py\", line 1228, in __init__\n    self._traceback = _extract_stack()\n\nInvalidArgumentError (see above for traceback): Received a label value of 344 which is outside the valid range of [0, 344).  Label values: 27 55 4 78 4 28 6 4 70 0 0 0 0 0 0 0 0 0 0 0 0 135 4 71 6 4 77 0 0 0 0 0 0 0 0 0 0 0 0 0 0 0 7 33 1 12 63 15 111 22 11 24 5 3 95 15 42 0 0 0 0 0 0 7 33 1 8 10 81 2 48 6 3 1 8 63 2 41 0 0 0 0 0 0 29 1 9 22 102 15 25 22 47 5 3 1 58 69 2 50 0 0 0 0 0 20 16 1 13 14 10 82 5 64 13 14 1 7 83 0 0 0 0 0 0 0 11 30 1 12 68 2 24 5 3 1 8 18 2 45 0 0 0 0 0 0 0 129 96 13 14 1 7 83 5 39 13 14 1 84 0 0 0 0 0 0 0 0 135 10 38 4 77 6 4 70 0 0 0 0 0 0 0 0 0 0 0 0 0 3 55 4 28 4 73 6 4 71 0 0 0 0 0 0 0 0 0 0 0 0 35 34 1 8 21 2 48 5 3 1 19 2 56 0 0 0 0 0 0 0 0 11 30 1 12 68 15 25 79 56 5 9 22 102 2 48 0 0 0 0 0 0 99 124 10 38 6 4 75 0 0 0 0 0 0 0 0 0 0 0 0 0 0 29 1 9 58 37 11 44 6 3 95 2 53 0 0 0 0 0 0 0 0 0 29 1 8 19 2 41 6 3 157 26 11 24 0 0 0 0 0 0 0 0 0 7 62 1 9 10 81 2 49 5 3 1 8 18 2 51 0 0 0 0 0 0 36 1 58 26 98 5 3 1 8 21 2 45 0 0 0 0 0 0 0 0 0 40 16 10 23 14 1 84 5 20 23 14 1 10 38 0 0 0 0 0 0 0 27 143 146 165 97 134 0 0 0 0 0 0 0 0 0 0 0 0 0 0 0 7 86 1 61 16 13 14 5 7 88 1 64 13 14 0 0 0 0 0 0 0 11 30 1 8 21 37 11 46 5 3 1 12 92 2 48 0 0 0 0 0 0 115 216 122 20 109 17 13 0 0 0 0 0 0 0 0 0 0 0 0 0 0 107 126 4 77 4 75 6 4 72 0 0 0 0 0 0 0 0 0 0 0 0 107 126 4 78 4 74 6 4 70 0 0 0 0 0 0 0 0 0 0 0 0 3 143 10 248 110 134 0 0 0 0 0 0 0 0 0 0 0 0 0 0 0 11 30 1 10 81 2 45 5 3 1 8 67 2 53 0 0 0 0 0 0 0 35 34 1 9 65 2 52 5 3 1 9 19 2 48 0 0 0 0 0 0 0 27 1 10 344 22 7 224 97 134 0 0 0 0 0 0 0 0 0 0 0 0 62 1 9 19 2 41 5 3 1 12 65 2 56 0 0 0 0 0 0 0 0 10 82 1 64 16 17 13 5 7 88 1 20 13 17 0 0 0 0 0 0 0 35 34 1 10 81 37 11 46 5 3 1 8 63 2 49 0 0 0 0 0 0 27 178 22 167 181 2 62 2 50 0 0 0 0 0 0 0 0 0 0 0 0 4 32 31 1 21 15 25 22 53 6 3 1 12 21 2 41 0 0 0 0 0 27 55 4 71 4 28 6 4 28 76 0 0 0 0 0 0 0 0 0 0 0 3 55 91 10 38 4 71 6 4 28 0 0 0 0 0 0 0 0 0 0 0 20 16 17 1 10 85 5 40 93 1 7 83 0 0 0 0 0 0 0 0 0 7 33 1 9 58 2 49 6 3 1 12 19 2 41 0 0 0 0 0 0 0 263 179 209 141 175 0 0 0 0 0 0 0 0 0 0 0 0 0 0 0 0 4 32 31 1 7 102 2 45 5 3 105 103 9 19 2 52 0 0 0 0 0 7 33 1 12 18 2 43 5 3 95 9 2 49 0 0 0 0 0 0 0 0 62 1 69 21 15 42 5 9 108 177 2 54 0 0 0 0 0 0 0 0 0 36 1 9 117 2 43 6 3 1 8 65 2 44 0 0 0 0 0 0 0 0 4 32 31 1 8 21 2 52 6 3 1 8 57 26 11 24 0 0 0 0 0 64 16 17 1 84 5 20 93 1 7 88 0 0 0 0 0 0 0 0 0 0 20 16 17 13 1 7 80 5 39 17 13 1 7 90 0 0 0 0 0 0 0 99 124 4 72 4 28 6 4 159 0 0 0 0 0 0 0 0 0 0 0 0 35 34 1 21 2 52 5 3 1 8 21 2 54 0 0 0 0 0 0 0 0 7 36 1 8 306 2 50 6 3 1 8 112 2 52 0 0 0 0 0 0 0 4 32 31 1 21 15 25 22 45 5 3 1 8 21 15 42 0 0 0 0 0 40 16 1 13 14 7 80 5 61 13 14 1 7 86 0 0 0 0 0 0 0 35 34 1 12 60 2 51 6 3 1 12 65 2 43 0 0 0 0 0 0 0 7 33 1 9 18 15 25 22 47 5 3 1 8 66 2 51 0 0 0 0 0 35 34 1 12 63 15 111 22 11 24 5 3 1 8 66 2 56 0 0 0 0 33 1 57 2 43 6 3 1 12 19 2 50 0 0 0 0 0 0 0 0 0 29 1 12 59 2 52 6 3 1 9 65 2 45 0 0 0 0 0 0 0 0 20 16 10 23 14 1 10 38 5 61 23 14 1 10 82 0 0 0 0 0 0 135 4 71 4 72 6 10 38 0 0 0 0 0 0 0 0 0 0 0 0 0 39 16 17 1 7 80 5 20 17 1 10 85 0 0 0 0 0 0 0 0 0 7 33 1 9 19 2 48 6 3 1 57 2 50 0 0 0 0 0 0 0 0 11 30 1 8 18 15 25 22 47 6 3 95 9 2 41 0 0 0 0 0 0 7 89 1 20 16 13 14 0 0 0 0 0 0 0 0 0 0 0 0 0 0 62 1 12 63 2 50 5 3 1 12 19 2 48 0 0 0 0 0 0 0 0 35 34 1 63 37 11 44 6 3 1 9 68 2 50 0 0 0 0 0 0 0 64 16 17 1 13 84 5 39 17 13 1 7 90 0 0 0 0 0 0 0 0\n\t [[Node: loss_3/time_distributed_4_loss/SparseSoftmaxCrossEntropyWithLogits/SparseSoftmaxCrossEntropyWithLogits = SparseSoftmaxCrossEntropyWithLogits[T=DT_FLOAT, Tlabels=DT_INT64, _device=\"/job:localhost/replica:0/task:0/cpu:0\"](loss_3/time_distributed_4_loss/Reshape_1, loss_3/time_distributed_4_loss/Cast)]]\n"
     ]
    }
   ],
   "source": [
    "from keras.layers import GRU, Input, Dense, TimeDistributed, SimpleRNN,Dropout\n",
    "from keras.models import Model\n",
    "from keras.layers import Activation\n",
    "from keras.optimizers import Adam\n",
    "from keras.losses import sparse_categorical_crossentropy\n",
    "from keras.models import Sequential\n",
    "from keras.layers import Dense\n",
    "\n",
    "def simple_model(input_shape, output_sequence_length, english_vocab_size, french_vocab_size):\n",
    "    \"\"\"\n",
    "    Build and train a basic RNN on x and y\n",
    "    :param input_shape: Tuple of input shape\n",
    "    :param output_sequence_length: Length of output sequence\n",
    "    :param english_vocab_size: Number of unique English words in the dataset\n",
    "    :param french_vocab_size: Number of unique French words in the dataset\n",
    "    :return: Keras model built, but not trained\n",
    "    \"\"\"\n",
    "    # TODO: Build the layers\n",
    "    model = Sequential()\n",
    "    model.add(SimpleRNN(units = output_sequence_length, input_shape  =  input_shape[1:], return_sequences = True))\n",
    "    model.add(Activation(\"tanh\"))\n",
    "    model.add(Dropout(0.4))\n",
    "\n",
    "    model.add(TimeDistributed(Dense(french_vocab_size, activation='softmax')))\n",
    "\n",
    "    model.compile(loss=sparse_categorical_crossentropy,\n",
    "                  optimizer=Adam(lr=0.001, beta_1=0.9, beta_2=0.999, epsilon=1e-08, decay=0.0),\n",
    "                  metrics=['sparse_categorical_accuracy'])\n",
    "    return model\n",
    "tests.test_simple_model(simple_model)\n",
    "\n",
    "\n",
    "# Reshaping the input to work with a basic RNN\n",
    "tmp_x = pad(preproc_english_sentences, preproc_french_sentences.shape[1])\n",
    "tmp_x = tmp_x.reshape((-1, preproc_french_sentences.shape[-2], 1))\n",
    "print(french_tokenizer.word_index)\n",
    "# Train the neural network\n",
    "simple_rnn_model = simple_model(\n",
    "    tmp_x.shape,\n",
    "    preproc_french_sentences.shape[1],\n",
    "    len(english_tokenizer.word_index),\n",
    "    len(french_tokenizer.word_index))\n",
    "simple_rnn_model.fit(tmp_x, preproc_french_sentences, batch_size=64, epochs=10, validation_split=0.2)\n",
    "\n",
    "# Print prediction(s)\n",
    "print(logits_to_text(simple_rnn_model.predict(tmp_x[:1])[0], french_tokenizer))"
   ]
  },
  {
   "cell_type": "markdown",
   "metadata": {},
   "source": [
    "### Model 2: Embedding (IMPLEMENTATION)\n",
    "![RNN](images/embedding.png)\n",
    "You've turned the words into ids, but there's a better representation of a word.  This is called word embeddings.  An embedding is a vector representation of the word that is close to similar words in n-dimensional space, where the n represents the size of the embedding vectors.\n",
    "\n",
    "In this model, you'll create a RNN model using embedding."
   ]
  },
  {
   "cell_type": "code",
   "execution_count": null,
   "metadata": {
    "collapsed": true
   },
   "outputs": [],
   "source": [
    "from keras.layers.embeddings import Embedding\n",
    "\n",
    "\n",
    "def embed_model(input_shape, output_sequence_length, english_vocab_size, french_vocab_size):\n",
    "    \"\"\"\n",
    "    Build and train a RNN model using word embedding on x and y\n",
    "    :param input_shape: Tuple of input shape\n",
    "    :param output_sequence_length: Length of output sequence\n",
    "    :param english_vocab_size: Number of unique English words in the dataset\n",
    "    :param french_vocab_size: Number of unique French words in the dataset\n",
    "    :return: Keras model built, but not trained\n",
    "    \"\"\"\n",
    "    # TODO: Implement\n",
    "    return None\n",
    "tests.test_embed_model(embed_model)\n",
    "\n",
    "\n",
    "# TODO: Reshape the input\n",
    "\n",
    "# TODO: Train the neural network\n",
    "\n",
    "# TODO: Print prediction(s)"
   ]
  },
  {
   "cell_type": "markdown",
   "metadata": {},
   "source": [
    "### Model 3: Bidirectional RNNs (IMPLEMENTATION)\n",
    "![RNN](images/bidirectional.png)\n",
    "One restriction of a RNN is that it can't see the future input, only the past.  This is where bidirectional recurrent neural networks come in.  They are able to see the future data."
   ]
  },
  {
   "cell_type": "code",
   "execution_count": null,
   "metadata": {
    "collapsed": true
   },
   "outputs": [],
   "source": [
    "from keras.layers import Bidirectional\n",
    "\n",
    "\n",
    "def bd_model(input_shape, output_sequence_length, english_vocab_size, french_vocab_size):\n",
    "    \"\"\"\n",
    "    Build and train a bidirectional RNN model on x and y\n",
    "    :param input_shape: Tuple of input shape\n",
    "    :param output_sequence_length: Length of output sequence\n",
    "    :param english_vocab_size: Number of unique English words in the dataset\n",
    "    :param french_vocab_size: Number of unique French words in the dataset\n",
    "    :return: Keras model built, but not trained\n",
    "    \"\"\"\n",
    "    # TODO: Implement\n",
    "    return None\n",
    "tests.test_bd_model(bd_model)\n",
    "\n",
    "\n",
    "# TODO: Train and Print prediction(s)"
   ]
  },
  {
   "cell_type": "markdown",
   "metadata": {},
   "source": [
    "### Model 4: Encoder-Decoder (OPTIONAL)\n",
    "Time to look at encoder-decoder models.  This model is made up of an encoder and decoder. The encoder creates a matrix representation of the sentence.  The decoder takes this matrix as input and predicts the translation as output.\n",
    "\n",
    "Create an encoder-decoder model in the cell below."
   ]
  },
  {
   "cell_type": "code",
   "execution_count": null,
   "metadata": {
    "collapsed": true
   },
   "outputs": [],
   "source": [
    "from keras.layers import RepeatVector\n",
    "\n",
    "\n",
    "def encdec_model(input_shape, output_sequence_length, english_vocab_size, french_vocab_size):\n",
    "    \"\"\"\n",
    "    Build and train an encoder-decoder model on x and y\n",
    "    :param input_shape: Tuple of input shape\n",
    "    :param output_sequence_length: Length of output sequence\n",
    "    :param english_vocab_size: Number of unique English words in the dataset\n",
    "    :param french_vocab_size: Number of unique French words in the dataset\n",
    "    :return: Keras model built, but not trained\n",
    "    \"\"\"\n",
    "    # OPTIONAL: Implement\n",
    "    return None\n",
    "tests.test_encdec_model(encdec_model)\n",
    "\n",
    "\n",
    "# OPTIONAL: Train and Print prediction(s)"
   ]
  },
  {
   "cell_type": "markdown",
   "metadata": {},
   "source": [
    "### Model 5: Custom (IMPLEMENTATION)\n",
    "Use everything you learned from the previous models to create a model that incorporates embedding and a bidirectional rnn into one model."
   ]
  },
  {
   "cell_type": "code",
   "execution_count": null,
   "metadata": {},
   "outputs": [],
   "source": [
    "def model_final(input_shape, output_sequence_length, english_vocab_size, french_vocab_size):\n",
    "    \"\"\"\n",
    "    Build and train a model that incorporates embedding, encoder-decoder, and bidirectional RNN on x and y\n",
    "    :param input_shape: Tuple of input shape\n",
    "    :param output_sequence_length: Length of output sequence\n",
    "    :param english_vocab_size: Number of unique English words in the dataset\n",
    "    :param french_vocab_size: Number of unique French words in the dataset\n",
    "    :return: Keras model built, but not trained\n",
    "    \"\"\"\n",
    "    # TODO: Implement\n",
    "    return None\n",
    "tests.test_model_final(model_final)\n",
    "\n",
    "\n",
    "print('Final Model Loaded')"
   ]
  },
  {
   "cell_type": "markdown",
   "metadata": {},
   "source": [
    "## Prediction (IMPLEMENTATION)"
   ]
  },
  {
   "cell_type": "code",
   "execution_count": null,
   "metadata": {
    "collapsed": true
   },
   "outputs": [],
   "source": [
    "import numpy as np\n",
    "from keras.preprocessing.sequence import pad_sequences\n",
    "\n",
    "\n",
    "def final_predictions(x, y, x_tk, y_tk):\n",
    "    \"\"\"\n",
    "    Gets predictions using the final model\n",
    "    :param x: Preprocessed English data\n",
    "    :param y: Preprocessed French data\n",
    "    :param x_tk: English tokenizer\n",
    "    :param y_tk: French tokenizer\n",
    "    \"\"\"\n",
    "    # TODO: Train neural network using model_final\n",
    "    model = None\n",
    "\n",
    "    \n",
    "    ## DON'T EDIT ANYTHING BELOW THIS LINE\n",
    "    y_id_to_word = {value: key for key, value in y_tk.word_index.items()}\n",
    "    y_id_to_word[0] = '<PAD>'\n",
    "\n",
    "    sentence = 'he saw a old yellow truck'\n",
    "    sentence = [x_tk.word_index[word] for word in sentence.split()]\n",
    "    sentence = pad_sequences([sentence], maxlen=x.shape[-1], padding='post')\n",
    "    sentences = np.array([sentence[0], x[0]])\n",
    "    predictions = model.predict(sentences, len(sentences))\n",
    "\n",
    "    print('Sample 1:')\n",
    "    print(' '.join([y_id_to_word[np.argmax(x)] for x in predictions[0]]))\n",
    "    print('Il a vu un vieux camion jaune')\n",
    "    print('Sample 2:')\n",
    "    print(' '.join([y_id_to_word[np.argmax(x)] for x in predictions[1]]))\n",
    "    print(' '.join([y_id_to_word[np.argmax(x)] for x in y[0]]))\n",
    "\n",
    "\n",
    "final_predictions(preproc_english_sentences, preproc_french_sentences, english_tokenizer, french_tokenizer)"
   ]
  },
  {
   "cell_type": "markdown",
   "metadata": {},
   "source": [
    "## Submission\n",
    "When you are ready to submit your project, do the following steps:\n",
    "1. Ensure you pass all points on the [rubric](https://review.udacity.com/#!/rubrics/1004/view).\n",
    "2. Submit the following in a zip file.\n",
    "  - `helper.py`\n",
    "  - `machine_translation.ipynb`\n",
    "  - `machine_translation.html`\n",
    "    - You can export the notebook by navigating to **File -> Download as -> HTML (.html)**."
   ]
  }
 ],
 "metadata": {
  "kernelspec": {
   "display_name": "Python [conda env:aind-nlp-capstone]",
   "language": "python",
   "name": "conda-env-aind-nlp-capstone-py"
  },
  "language_info": {
   "codemirror_mode": {
    "name": "ipython",
    "version": 3
   },
   "file_extension": ".py",
   "mimetype": "text/x-python",
   "name": "python",
   "nbconvert_exporter": "python",
   "pygments_lexer": "ipython3",
   "version": "3.5.4"
  }
 },
 "nbformat": 4,
 "nbformat_minor": 1
}

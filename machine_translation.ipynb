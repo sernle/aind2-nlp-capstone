{
 "cells": [
  {
   "cell_type": "markdown",
   "metadata": {
    "collapsed": true
   },
   "source": [
    "# Artificial Intelligence Nanodegree\n",
    "## Machine Translation Project\n",
    "In this notebook, sections that end with **'(IMPLEMENTATION)'** in the header indicate that the following blocks of code will require additional functionality which you must provide. Please be sure to read the instructions carefully!\n",
    "\n",
    "## Introduction\n",
    "In this notebook, you will build a deep neural network that functions as part of an end-to-end machine translation pipeline. Your completed pipeline will accept English text as input and return the French translation.\n",
    "\n",
    "- **Preprocess** - You'll convert text to sequence of integers.\n",
    "- **Models** Create models which accepts a sequence of integers as input and returns a probability distribution over possible translations. After learning about the basic types of neural networks that are often used for machine translation, you will engage in your own investigations, to design your own model!\n",
    "- **Prediction** Run the model on English text.\n",
    "\n",
    "## Dataset\n",
    "We begin by investigating the dataset that will be used to train and evaluate your pipeline.  The most common datasets used for machine translation are from [WMT](http://www.statmt.org/).  However, that will take a long time to train a neural network on.  We'll be using a dataset we created for this project that contains a small vocabulary.  You'll be able to train your model in a reasonable time with this dataset.\n",
    "### Load Data\n",
    "The data is located in `data/small_vocab_en` and `data/small_vocab_fr`. The `small_vocab_en` file contains English sentences with their French translations in the `small_vocab_fr` file. Load the English and French data from these files from running the cell below."
   ]
  },
  {
   "cell_type": "code",
   "execution_count": 1,
   "metadata": {},
   "outputs": [
    {
     "name": "stdout",
     "output_type": "stream",
     "text": [
      "Dataset Loaded\n"
     ]
    }
   ],
   "source": [
    "import helper\n",
    "\n",
    "\n",
    "# Load English data\n",
    "english_sentences = helper.load_data('data/small_vocab_en')\n",
    "# Load French data\n",
    "french_sentences = helper.load_data('data/small_vocab_fr')\n",
    "\n",
    "print('Dataset Loaded')"
   ]
  },
  {
   "cell_type": "markdown",
   "metadata": {},
   "source": [
    "### Files\n",
    "Each line in `small_vocab_en` contains an English sentence with the respective translation in each line of `small_vocab_fr`.  View the first two lines from each file."
   ]
  },
  {
   "cell_type": "code",
   "execution_count": 2,
   "metadata": {},
   "outputs": [
    {
     "name": "stdout",
     "output_type": "stream",
     "text": [
      "small_vocab_en Line 1:  new jersey is sometimes quiet during autumn , and it is snowy in april .\n",
      "small_vocab_fr Line 1:  new jersey est parfois calme pendant l' automne , et il est neigeux en avril .\n",
      "small_vocab_en Line 2:  the united states is usually chilly during july , and it is usually freezing in november .\n",
      "small_vocab_fr Line 2:  les états-unis est généralement froid en juillet , et il gèle habituellement en novembre .\n"
     ]
    }
   ],
   "source": [
    "for sample_i in range(2):\n",
    "    print('small_vocab_en Line {}:  {}'.format(sample_i + 1, english_sentences[sample_i]))\n",
    "    print('small_vocab_fr Line {}:  {}'.format(sample_i + 1, french_sentences[sample_i]))"
   ]
  },
  {
   "cell_type": "markdown",
   "metadata": {},
   "source": [
    "From looking at the sentences, you can see they have been preprocessed already.  The puncuations have been delimited using spaces. All the text have been converted to lowercase.  This should save you some time, but the text requires more preprocessing.\n",
    "### Vocabulary\n",
    "The complexity of the problem is determined by the complexity of the vocabulary.  A more complex vocabulary is a more complex problem.  Let's look at the complexity of the dataset we'll be working with."
   ]
  },
  {
   "cell_type": "code",
   "execution_count": 3,
   "metadata": {},
   "outputs": [
    {
     "name": "stdout",
     "output_type": "stream",
     "text": [
      "1823250 English words.\n",
      "227 unique English words.\n",
      "10 Most common words in the English dataset:\n",
      "\"is\" \",\" \".\" \"in\" \"it\" \"during\" \"the\" \"but\" \"and\" \"sometimes\"\n",
      "\n",
      "1961295 French words.\n",
      "355 unique French words.\n",
      "10 Most common words in the French dataset:\n",
      "\"est\" \".\" \",\" \"en\" \"il\" \"les\" \"mais\" \"et\" \"la\" \"parfois\"\n"
     ]
    }
   ],
   "source": [
    "import collections\n",
    "\n",
    "\n",
    "english_words_counter = collections.Counter([word for sentence in english_sentences for word in sentence.split()])\n",
    "french_words_counter = collections.Counter([word for sentence in french_sentences for word in sentence.split()])\n",
    "\n",
    "print('{} English words.'.format(len([word for sentence in english_sentences for word in sentence.split()])))\n",
    "print('{} unique English words.'.format(len(english_words_counter)))\n",
    "print('10 Most common words in the English dataset:')\n",
    "print('\"' + '\" \"'.join(list(zip(*english_words_counter.most_common(10)))[0]) + '\"')\n",
    "print()\n",
    "print('{} French words.'.format(len([word for sentence in french_sentences for word in sentence.split()])))\n",
    "print('{} unique French words.'.format(len(french_words_counter)))\n",
    "print('10 Most common words in the French dataset:')\n",
    "print('\"' + '\" \"'.join(list(zip(*french_words_counter.most_common(10)))[0]) + '\"')"
   ]
  },
  {
   "cell_type": "markdown",
   "metadata": {},
   "source": [
    "For comparison, _Alice's Adventures in Wonderland_ contains 2,766 unique words of a total of 15,500 words.\n",
    "## Preprocess\n",
    "For this project, you won't use text data as input to your model. Instead, you'll convert the text into sequences of integers using the following preprocess methods:\n",
    "1. Tokenize the words into ids\n",
    "2. Add padding to make all the sequences the same length.\n",
    "\n",
    "Time to start preprocessing the data...\n",
    "### Tokenize (IMPLEMENTATION)\n",
    "For a neural network to predict on text data, it first has to be turned into data it can understand. Text data like \"dog\" is a sequence of ASCII character encodings.  Since a neural network is a series of multiplication and addition operations, the input data needs to be number(s).\n",
    "\n",
    "We can turn each character into a number or each word into a number.  These are called character and word ids, respectively.  Character ids are used for character level models that generate text predictions for each character.  A word level model uses word ids that generate text predictions for each word.  Word level models tend to learn better, since they are lower in complexity, so we'll use those.\n",
    "\n",
    "Turn each sentence into a sequence of words ids using Keras's [`Tokenizer`](https://keras.io/preprocessing/text/#tokenizer) function. Use this function to tokenize `english_sentences` and `french_sentences` in the cell below.\n",
    "\n",
    "Running the cell will run `tokenize` on sample data and show output for debugging."
   ]
  },
  {
   "cell_type": "code",
   "execution_count": 4,
   "metadata": {},
   "outputs": [
    {
     "name": "stderr",
     "output_type": "stream",
     "text": [
      "Using TensorFlow backend.\n"
     ]
    },
    {
     "name": "stdout",
     "output_type": "stream",
     "text": [
      "{'this': 18, 'won': 16, 'study': 13, 'of': 14, 'over': 7, 'sentence': 21, 'fox': 5, 'jumps': 6, 'quick': 2, 'brown': 4, 'lazy': 8, 'dog': 9, 'a': 3, 'prize': 17, 'lexicography': 15, 'the': 1, 'my': 12, 'by': 10, 'short': 20, 'jove': 11, 'is': 19}\n",
      "\n",
      "Sequence 1 in x\n",
      "  Input:  The quick brown fox jumps over the lazy dog .\n",
      "  Output: [1, 2, 4, 5, 6, 7, 1, 8, 9]\n",
      "Sequence 2 in x\n",
      "  Input:  By Jove , my quick study of lexicography won a prize .\n",
      "  Output: [10, 11, 12, 2, 13, 14, 15, 16, 3, 17]\n",
      "Sequence 3 in x\n",
      "  Input:  This is a short sentence .\n",
      "  Output: [18, 19, 3, 20, 21]\n"
     ]
    }
   ],
   "source": [
    "import project_tests as tests\n",
    "from keras.preprocessing.text import Tokenizer\n",
    "\n",
    "\n",
    "def tokenize(x):\n",
    "    \"\"\"\n",
    "    Tokenize x\n",
    "    :param x: List of sentences/strings to be tokenized\n",
    "    :return: Tuple of (tokenized x data, tokenizer used to tokenize x)\n",
    "    \"\"\"\n",
    "    tokenizer = Tokenizer()\n",
    "    tokenizer.fit_on_texts(x)\n",
    "    \n",
    "    return tokenizer.texts_to_sequences(x), tokenizer\n",
    "tests.test_tokenize(tokenize)\n",
    "\n",
    "# Tokenize Example output\n",
    "text_sentences = [\n",
    "    'The quick brown fox jumps over the lazy dog .',\n",
    "    'By Jove , my quick study of lexicography won a prize .',\n",
    "    'This is a short sentence .']\n",
    "text_tokenized, text_tokenizer = tokenize(text_sentences)\n",
    "print(text_tokenizer.word_index)\n",
    "print()\n",
    "for sample_i, (sent, token_sent) in enumerate(zip(text_sentences, text_tokenized)):\n",
    "    print('Sequence {} in x'.format(sample_i + 1))\n",
    "    print('  Input:  {}'.format(sent))\n",
    "    print('  Output: {}'.format(token_sent))"
   ]
  },
  {
   "cell_type": "markdown",
   "metadata": {},
   "source": [
    "### Padding (IMPLEMENTATION)\n",
    "When batching the sequence of word ids together, each sequence needs to be the same length.  Since sentences are dynamic in length, we can add padding to the end of the sequences to make them the same length.\n",
    "\n",
    "Make sure all the English sequences have the same length and all the French sequences have the same length by adding padding to the **end** of each sequence using Keras's [`pad_sequences`](https://keras.io/preprocessing/sequence/#pad_sequences) function."
   ]
  },
  {
   "cell_type": "code",
   "execution_count": 5,
   "metadata": {},
   "outputs": [
    {
     "name": "stdout",
     "output_type": "stream",
     "text": [
      "[[ 1  2  4  5  6  7  1  8  9  0]\n",
      " [10 11 12  2 13 14 15 16  3 17]\n",
      " [18 19  3 20 21  0  0  0  0  0]]\n",
      "Sequence 1 in x\n",
      "  Input:  [1 2 4 5 6 7 1 8 9]\n",
      "  Output: [1 2 4 5 6 7 1 8 9 0]\n",
      "Sequence 2 in x\n",
      "  Input:  [10 11 12  2 13 14 15 16  3 17]\n",
      "  Output: [10 11 12  2 13 14 15 16  3 17]\n",
      "Sequence 3 in x\n",
      "  Input:  [18 19  3 20 21]\n",
      "  Output: [18 19  3 20 21  0  0  0  0  0]\n"
     ]
    }
   ],
   "source": [
    "import numpy as np\n",
    "from keras.preprocessing.sequence import pad_sequences\n",
    "\n",
    "\n",
    "def pad(x, length=None):\n",
    "    \"\"\"\n",
    "    Pad x\n",
    "    :param x: List of sequences.\n",
    "    :param length: Length to pad the sequence to.  If None, use length of longest sequence in x.\n",
    "    :return: Padded numpy array of sequences\n",
    "    \"\"\"\n",
    "    max_length = length\n",
    "    if length is None:\n",
    "        max_length = max(len(sentence) for sentence in x)\n",
    "    return pad_sequences(x, maxlen=max_length, padding='post')\n",
    "tests.test_pad(pad)\n",
    "\n",
    "# Pad Tokenized output\n",
    "test_pad = pad(text_tokenized)\n",
    "print(test_pad)\n",
    "for sample_i, (token_sent, pad_sent) in enumerate(zip(text_tokenized, test_pad)):\n",
    "    print('Sequence {} in x'.format(sample_i + 1))\n",
    "    print('  Input:  {}'.format(np.array(token_sent)))\n",
    "    print('  Output: {}'.format(pad_sent))"
   ]
  },
  {
   "cell_type": "markdown",
   "metadata": {},
   "source": [
    "### Preprocess Pipeline\n",
    "Your focus for this project is to build neural network architecture, so we won't ask you to create a preprocess pipeline.  Instead, we've provided you with the implementation of the `preprocess` function."
   ]
  },
  {
   "cell_type": "code",
   "execution_count": 6,
   "metadata": {},
   "outputs": [
    {
     "name": "stdout",
     "output_type": "stream",
     "text": [
      "Data Preprocessed\n"
     ]
    }
   ],
   "source": [
    "def preprocess(x, y):\n",
    "    \"\"\"\n",
    "    Preprocess x and y\n",
    "    :param x: Feature List of sentences\n",
    "    :param y: Label List of sentences\n",
    "    :return: Tuple of (Preprocessed x, Preprocessed y, x tokenizer, y tokenizer)\n",
    "    \"\"\"\n",
    "    preprocess_x, x_tk = tokenize(x)\n",
    "    preprocess_y, y_tk = tokenize(y)\n",
    "\n",
    "    preprocess_x = pad(preprocess_x)\n",
    "    preprocess_y = pad(preprocess_y)\n",
    "\n",
    "    # Keras's sparse_categorical_crossentropy function requires the labels to be in 3 dimensions\n",
    "    preprocess_y = preprocess_y.reshape(*preprocess_y.shape, 1)\n",
    "\n",
    "    return preprocess_x, preprocess_y, x_tk, y_tk\n",
    "\n",
    "preproc_english_sentences, preproc_french_sentences, english_tokenizer, french_tokenizer =\\\n",
    "    preprocess(english_sentences, french_sentences)\n",
    "\n",
    "print('Data Preprocessed')"
   ]
  },
  {
   "cell_type": "markdown",
   "metadata": {},
   "source": [
    "## Models\n",
    "In this section, you will experiment with various neural network architectures.\n",
    "You will begin by training four relatively simple architectures.\n",
    "- Model 1 is a simple RNN\n",
    "- Model 2 is a RNN with Embedding\n",
    "- Model 3 is a Bidirectional RNN\n",
    "- Model 4 is an optional Encoder-Decoder RNN\n",
    "\n",
    "After experimenting with the four simple architectures, you will construct a deeper architecture that is designed to outperform all four models.\n",
    "### Ids Back to Text\n",
    "The neural network will be translating the input to words ids, which isn't the final form we want.  We want the French translation.  The function `logits_to_text` will bridge the gab between the logits from the neural network to the French translation.  You'll be using this function to better understand the output of the neural network."
   ]
  },
  {
   "cell_type": "code",
   "execution_count": 7,
   "metadata": {},
   "outputs": [
    {
     "name": "stdout",
     "output_type": "stream",
     "text": [
      "`logits_to_text` function loaded.\n"
     ]
    }
   ],
   "source": [
    "def logits_to_text(logits, tokenizer):\n",
    "    \"\"\"\n",
    "    Turn logits from a neural network into text using the tokenizer\n",
    "    :param logits: Logits from a neural network\n",
    "    :param tokenizer: Keras Tokenizer fit on the labels\n",
    "    :return: String that represents the text of the logits\n",
    "    \"\"\"\n",
    "    index_to_words = {id: word for word, id in tokenizer.word_index.items()}\n",
    "    index_to_words[0] = '<PAD>'\n",
    "\n",
    "    return ' '.join([index_to_words[prediction] for prediction in np.argmax(logits, 1)])\n",
    "\n",
    "print('`logits_to_text` function loaded.')"
   ]
  },
  {
   "cell_type": "markdown",
   "metadata": {},
   "source": [
    "### Model 1: RNN (IMPLEMENTATION)\n",
    "![RNN](images/rnn.png)\n",
    "A basic RNN model is a good baseline for sequence data.  In this model, you'll build a RNN that translates English to French."
   ]
  },
  {
   "cell_type": "code",
   "execution_count": 8,
   "metadata": {},
   "outputs": [
    {
     "name": "stdout",
     "output_type": "stream",
     "text": [
      "Train on 110288 samples, validate on 27573 samples\n",
      "Epoch 1/10\n",
      "110288/110288 [==============================] - 57s 514us/step - loss: 2.8105 - sparse_categorical_accuracy: 0.4509 - val_loss: 2.3582 - val_sparse_categorical_accuracy: 0.4814\n",
      "Epoch 2/10\n",
      "110288/110288 [==============================] - 54s 490us/step - loss: 2.4236 - sparse_categorical_accuracy: 0.4828 - val_loss: 2.1569 - val_sparse_categorical_accuracy: 0.5261\n",
      "Epoch 3/10\n",
      "110288/110288 [==============================] - 57s 521us/step - loss: 2.2976 - sparse_categorical_accuracy: 0.4958 - val_loss: 2.0794 - val_sparse_categorical_accuracy: 0.5381\n",
      "Epoch 4/10\n",
      "110288/110288 [==============================] - 55s 497us/step - loss: 2.2623 - sparse_categorical_accuracy: 0.4996 - val_loss: 2.0497 - val_sparse_categorical_accuracy: 0.5368\n",
      "Epoch 5/10\n",
      "110288/110288 [==============================] - 56s 512us/step - loss: 2.2438 - sparse_categorical_accuracy: 0.5013 - val_loss: 2.0291 - val_sparse_categorical_accuracy: 0.5380\n",
      "Epoch 6/10\n",
      "110288/110288 [==============================] - 58s 529us/step - loss: 2.2303 - sparse_categorical_accuracy: 0.5020 - val_loss: 2.0181 - val_sparse_categorical_accuracy: 0.5381\n",
      "Epoch 7/10\n",
      "110288/110288 [==============================] - 54s 491us/step - loss: 2.2234 - sparse_categorical_accuracy: 0.5024 - val_loss: 2.0104 - val_sparse_categorical_accuracy: 0.5396\n",
      "Epoch 8/10\n",
      "110288/110288 [==============================] - 56s 505us/step - loss: 2.2138 - sparse_categorical_accuracy: 0.5038 - val_loss: 2.0015 - val_sparse_categorical_accuracy: 0.5367\n",
      "Epoch 9/10\n",
      "110288/110288 [==============================] - 60s 544us/step - loss: 2.1970 - sparse_categorical_accuracy: 0.5055 - val_loss: 1.9739 - val_sparse_categorical_accuracy: 0.5346\n",
      "Epoch 10/10\n",
      "110288/110288 [==============================] - 59s 535us/step - loss: 2.1664 - sparse_categorical_accuracy: 0.5084 - val_loss: 1.9441 - val_sparse_categorical_accuracy: 0.5354\n",
      "la moins est est en en en en il est est en en <PAD> <PAD> <PAD> <PAD> <PAD> <PAD> <PAD> <PAD>\n"
     ]
    }
   ],
   "source": [
    "from keras.layers import GRU, Input, Dense, TimeDistributed, SimpleRNN,Dropout\n",
    "from keras.models import Model\n",
    "from keras.layers import Activation\n",
    "from keras.optimizers import Adam\n",
    "from keras.losses import sparse_categorical_crossentropy\n",
    "from keras.models import Sequential\n",
    "from keras.layers import Dense\n",
    "\n",
    "def simple_model(input_shape, output_sequence_length, english_vocab_size, french_vocab_size):\n",
    "    \"\"\"\n",
    "    Build and train a basic RNN on x and y\n",
    "    :param input_shape: Tuple of input shape\n",
    "    :param output_sequence_length: Length of output sequence\n",
    "    :param english_vocab_size: Number of unique English words in the dataset\n",
    "    :param french_vocab_size: Number of unique French words in the dataset\n",
    "    :return: Keras model built, but not trained\n",
    "    \"\"\"\n",
    "    # TODO: Build the layers\n",
    "    model = Sequential()\n",
    "    model.add(SimpleRNN(units = output_sequence_length, input_shape  =  input_shape[1:], return_sequences = True))\n",
    "    model.add(Activation(\"tanh\"))\n",
    "    model.add(Dropout(0.4))\n",
    "\n",
    "    model.add(TimeDistributed(Dense(french_vocab_size, activation='softmax')))\n",
    "\n",
    "    model.compile(loss=sparse_categorical_crossentropy,\n",
    "                  optimizer=Adam(lr=0.001, beta_1=0.9, beta_2=0.999, epsilon=1e-08, decay=0.0),\n",
    "                  metrics=['sparse_categorical_accuracy'])\n",
    "    return model\n",
    "tests.test_simple_model(simple_model)\n",
    "\n",
    "\n",
    "# Reshaping the input to work with a basic RNN\n",
    "tmp_x = pad(preproc_english_sentences, preproc_french_sentences.shape[1])\n",
    "tmp_x = tmp_x.reshape((-1, preproc_french_sentences.shape[-2], 1))\n",
    "# Train the neural network\n",
    "simple_rnn_model = simple_model(\n",
    "    tmp_x.shape,\n",
    "    preproc_french_sentences.shape[1],\n",
    "    len(english_tokenizer.word_index) + 1,\n",
    "    len(french_tokenizer.word_index) + 1)\n",
    "simple_rnn_model.fit(tmp_x, preproc_french_sentences, batch_size=64, epochs=10, validation_split=0.2)\n",
    "\n",
    "# Print prediction(s)\n",
    "print(logits_to_text(simple_rnn_model.predict(tmp_x[:1])[0], french_tokenizer))"
   ]
  },
  {
   "cell_type": "markdown",
   "metadata": {},
   "source": [
    "### Model 2: Embedding (IMPLEMENTATION)\n",
    "![RNN](images/embedding.png)\n",
    "You've turned the words into ids, but there's a better representation of a word.  This is called word embeddings.  An embedding is a vector representation of the word that is close to similar words in n-dimensional space, where the n represents the size of the embedding vectors.\n",
    "\n",
    "In this model, you'll create a RNN model using embedding."
   ]
  },
  {
   "cell_type": "code",
   "execution_count": 9,
   "metadata": {},
   "outputs": [
    {
     "name": "stdout",
     "output_type": "stream",
     "text": [
      "Train on 110288 samples, validate on 27573 samples\n",
      "Epoch 1/10\n",
      "110288/110288 [==============================] - 80s 730us/step - loss: 1.1589 - sparse_categorical_accuracy: 0.7317 - val_loss: 0.5055 - val_sparse_categorical_accuracy: 0.8612\n",
      "Epoch 2/10\n",
      "110288/110288 [==============================] - 78s 710us/step - loss: 0.5264 - sparse_categorical_accuracy: 0.8540 - val_loss: 0.3732 - val_sparse_categorical_accuracy: 0.8907\n",
      "Epoch 3/10\n",
      "110288/110288 [==============================] - 80s 722us/step - loss: 0.4411 - sparse_categorical_accuracy: 0.8746 - val_loss: 0.3270 - val_sparse_categorical_accuracy: 0.9026\n",
      "Epoch 4/10\n",
      "110288/110288 [==============================] - 82s 745us/step - loss: 0.4050 - sparse_categorical_accuracy: 0.8834 - val_loss: 0.2975 - val_sparse_categorical_accuracy: 0.9093\n",
      "Epoch 5/10\n",
      "110288/110288 [==============================] - 83s 756us/step - loss: 0.3821 - sparse_categorical_accuracy: 0.8896 - val_loss: 0.2935 - val_sparse_categorical_accuracy: 0.9107\n",
      "Epoch 6/10\n",
      "110288/110288 [==============================] - 84s 764us/step - loss: 0.3652 - sparse_categorical_accuracy: 0.8937 - val_loss: 0.2852 - val_sparse_categorical_accuracy: 0.9117\n",
      "Epoch 7/10\n",
      "110288/110288 [==============================] - 82s 743us/step - loss: 0.3549 - sparse_categorical_accuracy: 0.8965 - val_loss: 0.2708 - val_sparse_categorical_accuracy: 0.9173\n",
      "Epoch 8/10\n",
      "110288/110288 [==============================] - 85s 767us/step - loss: 0.3449 - sparse_categorical_accuracy: 0.8990 - val_loss: 0.2656 - val_sparse_categorical_accuracy: 0.9182\n",
      "Epoch 9/10\n",
      "110288/110288 [==============================] - 91s 821us/step - loss: 0.3393 - sparse_categorical_accuracy: 0.9004 - val_loss: 0.2596 - val_sparse_categorical_accuracy: 0.9196\n",
      "Epoch 10/10\n",
      "110288/110288 [==============================] - 89s 806us/step - loss: 0.3324 - sparse_categorical_accuracy: 0.9023 - val_loss: 0.2538 - val_sparse_categorical_accuracy: 0.9217\n",
      "new jersey est parfois calme en l' automne et il est neigeux en <PAD> <PAD> <PAD> <PAD> <PAD> <PAD> <PAD> <PAD>\n"
     ]
    }
   ],
   "source": [
    "from keras.layers.embeddings import Embedding\n",
    "\n",
    "\n",
    "def embed_model(input_shape, output_sequence_length, english_vocab_size, french_vocab_size):\n",
    "    \"\"\"\n",
    "    Build and train a RNN model using word embedding on x and y\n",
    "    :param input_shape: Tuple of input shape\n",
    "    :param output_sequence_length: Length of output sequence\n",
    "    :param english_vocab_size: Number of unique English words in the dataset\n",
    "    :param french_vocab_size: Number of unique French words in the dataset\n",
    "    :return: Keras model built, but not trained\n",
    "    \"\"\"\n",
    "    # TODO: Implement\n",
    "    model = Sequential()\n",
    "    model.add(Embedding(english_vocab_size, 128, input_length=input_shape[1]))\n",
    "    model.add(SimpleRNN(128, return_sequences = True))\n",
    "    model.add(Activation(\"tanh\"))\n",
    "    model.add(Dropout(0.5))\n",
    "\n",
    "    model.add(TimeDistributed(Dense(french_vocab_size, activation='softmax')))\n",
    "\n",
    "    model.compile(loss=sparse_categorical_crossentropy,\n",
    "                  optimizer=Adam(lr=0.001, beta_1=0.9, beta_2=0.999, epsilon=1e-08, decay=0.0),\n",
    "                  metrics=['sparse_categorical_accuracy'])\n",
    "    return model\n",
    "tests.test_embed_model(embed_model)\n",
    "\n",
    "\n",
    "tmp_x = pad(preproc_english_sentences, preproc_french_sentences.shape[1])\n",
    "# tmp_x = tmp_x.reshape((-1, preproc_french_sentences.shape[-2], 1))\n",
    "# Train the neural network\n",
    "embed_model = embed_model(\n",
    "    tmp_x.shape,\n",
    "    preproc_french_sentences.shape[1],\n",
    "    len(english_tokenizer.word_index) + 1,\n",
    "    len(french_tokenizer.word_index) + 1)\n",
    "embed_model.fit(tmp_x, preproc_french_sentences, batch_size=64, epochs=10, validation_split=0.2)\n",
    "\n",
    "# Print prediction(s)\n",
    "print(logits_to_text(embed_model.predict(tmp_x[:1])[0], french_tokenizer))"
   ]
  },
  {
   "cell_type": "markdown",
   "metadata": {},
   "source": [
    "### Model 3: Bidirectional RNNs (IMPLEMENTATION)\n",
    "![RNN](images/bidirectional.png)\n",
    "One restriction of a RNN is that it can't see the future input, only the past.  This is where bidirectional recurrent neural networks come in.  They are able to see the future data."
   ]
  },
  {
   "cell_type": "code",
   "execution_count": 10,
   "metadata": {},
   "outputs": [
    {
     "name": "stdout",
     "output_type": "stream",
     "text": [
      "Train on 110288 samples, validate on 27573 samples\n",
      "Epoch 1/10\n",
      "110288/110288 [==============================] - 64s 576us/step - loss: 2.1614 - sparse_categorical_accuracy: 0.5363 - val_loss: 1.6389 - val_sparse_categorical_accuracy: 0.6067\n",
      "Epoch 2/10\n",
      "110288/110288 [==============================] - 71s 643us/step - loss: 1.6729 - sparse_categorical_accuracy: 0.5865 - val_loss: 1.4899 - val_sparse_categorical_accuracy: 0.6179\n",
      "Epoch 3/10\n",
      "110288/110288 [==============================] - 71s 641us/step - loss: 1.5969 - sparse_categorical_accuracy: 0.5954 - val_loss: 1.4422 - val_sparse_categorical_accuracy: 0.6235\n",
      "Epoch 4/10\n",
      "110288/110288 [==============================] - 73s 663us/step - loss: 1.5654 - sparse_categorical_accuracy: 0.5993 - val_loss: 1.4154 - val_sparse_categorical_accuracy: 0.6243\n",
      "Epoch 5/10\n",
      "110288/110288 [==============================] - 71s 642us/step - loss: 1.5457 - sparse_categorical_accuracy: 0.6020 - val_loss: 1.3995 - val_sparse_categorical_accuracy: 0.6291\n",
      "Epoch 6/10\n",
      "110288/110288 [==============================] - 69s 622us/step - loss: 1.5328 - sparse_categorical_accuracy: 0.6039 - val_loss: 1.3865 - val_sparse_categorical_accuracy: 0.6260\n",
      "Epoch 7/10\n",
      "110288/110288 [==============================] - 69s 627us/step - loss: 1.5201 - sparse_categorical_accuracy: 0.6053 - val_loss: 1.3705 - val_sparse_categorical_accuracy: 0.6321\n",
      "Epoch 8/10\n",
      "110288/110288 [==============================] - 70s 635us/step - loss: 1.5095 - sparse_categorical_accuracy: 0.6069 - val_loss: 1.3573 - val_sparse_categorical_accuracy: 0.6340\n",
      "Epoch 9/10\n",
      "110288/110288 [==============================] - 69s 629us/step - loss: 1.4996 - sparse_categorical_accuracy: 0.6079 - val_loss: 1.3502 - val_sparse_categorical_accuracy: 0.6313\n",
      "Epoch 10/10\n",
      "110288/110288 [==============================] - 70s 631us/step - loss: 1.4925 - sparse_categorical_accuracy: 0.6084 - val_loss: 1.3420 - val_sparse_categorical_accuracy: 0.6389\n",
      "new jersey est parfois chaud en en et il est est en en <PAD> <PAD> <PAD> <PAD> <PAD> <PAD> <PAD> <PAD>\n"
     ]
    }
   ],
   "source": [
    "from keras.layers import Bidirectional\n",
    "from keras.layers import LSTM\n",
    "\n",
    "\n",
    "\n",
    "def bd_model(input_shape, output_sequence_length, english_vocab_size, french_vocab_size):\n",
    "    \"\"\"\n",
    "    Build and train a bidirectional RNN model on x and y\n",
    "    :param input_shape: Tuple of input shape\n",
    "    :param output_sequence_length: Length of output sequence\n",
    "    :param english_vocab_size: Number of unique English words in the dataset\n",
    "    :param french_vocab_size: Number of unique French words in the dataset\n",
    "    :return: Keras model built, but not trained\n",
    "    \"\"\"\n",
    "    # TODO: Implement\n",
    "    model = Sequential()\n",
    "    model.add(Bidirectional(SimpleRNN(units = output_sequence_length, return_sequences = True), input_shape  =  input_shape[1:]))\n",
    "    model.add(Dropout(0.2))  \n",
    "    model.add(TimeDistributed(Dense(french_vocab_size, activation='softmax')))\n",
    "\n",
    "    model.compile(loss=sparse_categorical_crossentropy,\n",
    "                  optimizer=Adam(lr=0.001, beta_1=0.9, beta_2=0.999, epsilon=1e-08, decay=0.0),\n",
    "                  metrics=['sparse_categorical_accuracy'])\n",
    "    return model\n",
    "tests.test_bd_model(bd_model)\n",
    "\n",
    "\n",
    "tmp_x = pad(preproc_english_sentences, preproc_french_sentences.shape[1])\n",
    "tmp_x = tmp_x.reshape((-1, preproc_french_sentences.shape[-2], 1))\n",
    "# Train the neural network\n",
    "bd_model = bd_model(\n",
    "    tmp_x.shape,\n",
    "    preproc_french_sentences.shape[1],\n",
    "    len(english_tokenizer.word_index) + 1,\n",
    "    len(french_tokenizer.word_index) + 1)\n",
    "bd_model.fit(tmp_x, preproc_french_sentences, batch_size=64, epochs=10, validation_split=0.2)\n",
    "\n",
    "# Print prediction(s)\n",
    "print(logits_to_text(bd_model.predict(tmp_x[:1])[0], french_tokenizer))"
   ]
  },
  {
   "cell_type": "markdown",
   "metadata": {},
   "source": [
    "### Model 4: Encoder-Decoder (OPTIONAL)\n",
    "Time to look at encoder-decoder models.  This model is made up of an encoder and decoder. The encoder creates a matrix representation of the sentence.  The decoder takes this matrix as input and predicts the translation as output.\n",
    "\n",
    "Create an encoder-decoder model in the cell below."
   ]
  },
  {
   "cell_type": "code",
   "execution_count": null,
   "metadata": {
    "collapsed": true
   },
   "outputs": [],
   "source": [
    "from keras.layers import RepeatVector\n",
    "\n",
    "\n",
    "def encdec_model(input_shape, output_sequence_length, english_vocab_size, french_vocab_size):\n",
    "    \"\"\"\n",
    "    Build and train an encoder-decoder model on x and y\n",
    "    :param input_shape: Tuple of input shape\n",
    "    :param output_sequence_length: Length of output sequence\n",
    "    :param english_vocab_size: Number of unique English words in the dataset\n",
    "    :param french_vocab_size: Number of unique French words in the dataset\n",
    "    :return: Keras model built, but not trained\n",
    "    \"\"\"\n",
    "    # OPTIONAL: Implement\n",
    "    return None\n",
    "tests.test_encdec_model(encdec_model)\n",
    "\n",
    "\n",
    "# OPTIONAL: Train and Print prediction(s)"
   ]
  },
  {
   "cell_type": "markdown",
   "metadata": {},
   "source": [
    "### Model 5: Custom (IMPLEMENTATION)\n",
    "Use everything you learned from the previous models to create a model that incorporates embedding and a bidirectional rnn into one model."
   ]
  },
  {
   "cell_type": "code",
   "execution_count": 76,
   "metadata": {},
   "outputs": [
    {
     "name": "stdout",
     "output_type": "stream",
     "text": [
      "_________________________________________________________________\n",
      "Layer (type)                 Output Shape              Param #   \n",
      "=================================================================\n",
      "embedding_64 (Embedding)     (None, 15, 199)           39601     \n",
      "_________________________________________________________________\n",
      "bidirectional_88 (Bidirectio (None, 256)               83968     \n",
      "_________________________________________________________________\n",
      "repeat_vector_34 (RepeatVect (None, 21, 256)           0         \n",
      "_________________________________________________________________\n",
      "bidirectional_89 (Bidirectio (None, 21, 256)           98560     \n",
      "_________________________________________________________________\n",
      "dropout_37 (Dropout)         (None, 21, 256)           0         \n",
      "_________________________________________________________________\n",
      "time_distributed_48 (TimeDis (None, 21, 344)           88408     \n",
      "=================================================================\n",
      "Total params: 310,537\n",
      "Trainable params: 310,537\n",
      "Non-trainable params: 0\n",
      "_________________________________________________________________\n",
      "None\n",
      "Final Model Loaded\n"
     ]
    }
   ],
   "source": [
    "from keras.layers.core import RepeatVector\n",
    "from keras.layers import GRU\n",
    "def model_final(input_shape, output_sequence_length, english_vocab_size, french_vocab_size):\n",
    "    \"\"\"\n",
    "    Build and train a model that incorporates embedding, encoder-decoder, and bidirectional RNN on x and y\n",
    "    :param input_shape: Tuple of input shape\n",
    "    :param output_sequence_length: Length of output sequence\n",
    "    :param english_vocab_size: Number of unique English words in the dataset\n",
    "    :param french_vocab_size: Number of unique French words in the dataset\n",
    "    :return: Keras model built, but not trained\n",
    "    \"\"\"\n",
    "    model = Sequential()\n",
    "    \n",
    "    model.add(Embedding(english_vocab_size, english_vocab_size, input_length=input_shape[1]))\n",
    "    \n",
    "    \n",
    "    model.add(Bidirectional(SimpleRNN(128, return_sequences=False)))\n",
    "    model.add(RepeatVector(output_sequence_length)) \n",
    "    model.add(Bidirectional(SimpleRNN(128, return_sequences=True)))\n",
    "    model.add(Dropout(0.4))  \n",
    "    model.add(TimeDistributed(Dense(french_vocab_size, activation='softmax')))\n",
    "    print(model.summary())\n",
    "\n",
    "    \n",
    "    model.compile(loss=sparse_categorical_crossentropy,\n",
    "                    optimizer=Adam(lr=0.001, beta_1=0.9, beta_2=0.999, epsilon=1e-08, decay=0.0),\n",
    "                    metrics=['sparse_categorical_accuracy'])\n",
    "    return model\n",
    "tests.test_model_final(model_final)\n",
    "print('Final Model Loaded')"
   ]
  },
  {
   "cell_type": "markdown",
   "metadata": {},
   "source": [
    "## Prediction (IMPLEMENTATION)"
   ]
  },
  {
   "cell_type": "code",
   "execution_count": 77,
   "metadata": {},
   "outputs": [
    {
     "name": "stdout",
     "output_type": "stream",
     "text": [
      "_________________________________________________________________\n",
      "Layer (type)                 Output Shape              Param #   \n",
      "=================================================================\n",
      "embedding_65 (Embedding)     (None, 15, 200)           40000     \n",
      "_________________________________________________________________\n",
      "bidirectional_90 (Bidirectio (None, 256)               84224     \n",
      "_________________________________________________________________\n",
      "repeat_vector_35 (RepeatVect (None, 21, 256)           0         \n",
      "_________________________________________________________________\n",
      "bidirectional_91 (Bidirectio (None, 21, 256)           98560     \n",
      "_________________________________________________________________\n",
      "dropout_38 (Dropout)         (None, 21, 256)           0         \n",
      "_________________________________________________________________\n",
      "time_distributed_49 (TimeDis (None, 21, 345)           88665     \n",
      "=================================================================\n",
      "Total params: 311,449\n",
      "Trainable params: 311,449\n",
      "Non-trainable params: 0\n",
      "_________________________________________________________________\n",
      "None\n",
      "Train on 110288 samples, validate on 27573 samples\n",
      "Epoch 1/10\n",
      "110288/110288 [==============================] - 185s 2ms/step - loss: 1.0268 - sparse_categorical_accuracy: 0.7318 - val_loss: 0.5604 - val_sparse_categorical_accuracy: 0.8376gorica - ETA: 6s - loss: 1.0421 - sparse_categorical_accuracy:  - ET\n",
      "Epoch 2/10\n",
      "110288/110288 [==============================] - 187s 2ms/step - loss: 0.5244 - sparse_categorical_accuracy: 0.8491 - val_loss: 0.3349 - val_sparse_categorical_accuracy: 0.9059\n",
      "Epoch 3/10\n",
      "110288/110288 [==============================] - 187s 2ms/step - loss: 0.3872 - sparse_categorical_accuracy: 0.8898 - val_loss: 0.2882 - val_sparse_categorical_accuracy: 0.9187ETA: 2s - loss: 0.3875 - sparse\n",
      "Epoch 4/10\n",
      "110288/110288 [==============================] - 191s 2ms/step - loss: 0.3272 - sparse_categorical_accuracy: 0.9070 - val_loss: 0.2191 - val_sparse_categorical_accuracy: 0.9375\n",
      "Epoch 5/10\n",
      "110288/110288 [==============================] - 193s 2ms/step - loss: 0.2916 - sparse_categorical_accuracy: 0.9174 - val_loss: 0.2152 - val_sparse_categorical_accuracy: 0.9389\n",
      "Epoch 6/10\n",
      "110288/110288 [==============================] - 194s 2ms/step - loss: 0.2729 - sparse_categorical_accuracy: 0.9230 - val_loss: 0.2504 - val_sparse_categorical_accuracy: 0.9298\n",
      "Epoch 7/10\n",
      "110288/110288 [==============================] - 187s 2ms/step - loss: 0.2546 - sparse_categorical_accuracy: 0.9286 - val_loss: 0.1945 - val_sparse_categorical_accuracy: 0.9452s - loss: 0.2553 - sparse_categorical_accuracy:  - ETA: 7 - ETA: 2s - loss: 0.2551 - sparse_cate\n",
      "Epoch 8/10\n",
      "110288/110288 [==============================] - 180s 2ms/step - loss: 0.2409 - sparse_categorical_accuracy: 0.9326 - val_loss: 0.1702 - val_sparse_categorical_accuracy: 0.9516\n",
      "Epoch 9/10\n",
      "110288/110288 [==============================] - 180s 2ms/step - loss: 0.2352 - sparse_categorical_accuracy: 0.9344 - val_loss: 0.1868 - val_sparse_categorical_accuracy: 0.9488\n",
      "Epoch 10/10\n",
      "110288/110288 [==============================] - 179s 2ms/step - loss: 0.2267 - sparse_categorical_accuracy: 0.9369 - val_loss: 0.1698 - val_sparse_categorical_accuracy: 0.9520\n",
      "Sample 1:\n",
      "il a vu un vieux camion jaune <PAD> <PAD> <PAD> <PAD> <PAD> <PAD> <PAD> <PAD> <PAD> <PAD> <PAD> <PAD> <PAD> <PAD>\n",
      "Il a vu un vieux camion jaune\n",
      "Sample 2:\n",
      "new jersey est parfois calme pendant l'automne automne il il et neigeux en avril <PAD> <PAD> <PAD> <PAD> <PAD> <PAD> <PAD>\n",
      "<PAD> <PAD> <PAD> <PAD> <PAD> <PAD> <PAD> <PAD> <PAD> <PAD> <PAD> <PAD> <PAD> <PAD> <PAD> <PAD> <PAD> <PAD> <PAD> <PAD> <PAD>\n"
     ]
    }
   ],
   "source": [
    "import numpy as np\n",
    "from keras.preprocessing.sequence import pad_sequences\n",
    "\n",
    "\n",
    "def final_predictions(x, y, x_tk, y_tk):\n",
    "    \"\"\"\n",
    "    Gets predictions using the final model\n",
    "    :param x: Preprocessed English data\n",
    "    :param y: Preprocessed French data\n",
    "    :param x_tk: English tokenizer\n",
    "    :param y_tk: French tokenizer\n",
    "    \"\"\"\n",
    "    # TODO: Train neural network using model_final\n",
    "# Train the neural network\n",
    "#     tmp_x = pad(preproc_english_sentences, preproc_french_sentences.shape[1])\n",
    "# #     tmp_x = tmp_x.reshape((-1, preproc_french_sentences.shape[-2], 1))\n",
    "    model = model_final(x.shape,\n",
    "                        y.shape[1],\n",
    "                        len(x_tk.word_index) + 1,\n",
    "                        len(y_tk.word_index) + 1)\n",
    "\n",
    "    model.fit(x, y, batch_size=64, epochs=10, validation_split=0.2)\n",
    "\n",
    "    ## DON'T EDIT ANYTHING BELOW THIS LINE\n",
    "    y_id_to_word = {value: key for key, value in y_tk.word_index.items()}\n",
    "    y_id_to_word[0] = '<PAD>'\n",
    "\n",
    "    sentence = 'he saw a old yellow truck'\n",
    "    sentence = [x_tk.word_index[word] for word in sentence.split()]\n",
    "    sentence = pad_sequences([sentence], maxlen=x.shape[-1], padding='post')\n",
    "    sentences = np.array([sentence[0], x[0]])\n",
    "    predictions = model.predict(sentences, len(sentences))\n",
    "\n",
    "    print('Sample 1:')\n",
    "    print(' '.join([y_id_to_word[np.argmax(x)] for x in predictions[0]]))\n",
    "    print('Il a vu un vieux camion jaune')\n",
    "    print('Sample 2:')\n",
    "    print(' '.join([y_id_to_word[np.argmax(x)] for x in predictions[1]]))\n",
    "    print(' '.join([y_id_to_word[np.argmax(x)] for x in y[0]]))\n",
    "\n",
    "\n",
    "final_predictions(preproc_english_sentences, preproc_french_sentences, english_tokenizer, french_tokenizer)"
   ]
  },
  {
   "cell_type": "markdown",
   "metadata": {},
   "source": [
    "## Submission\n",
    "When you are ready to submit your project, do the following steps:\n",
    "1. Ensure you pass all points on the [rubric](https://review.udacity.com/#!/rubrics/1004/view).\n",
    "2. Submit the following in a zip file.\n",
    "  - `helper.py`\n",
    "  - `machine_translation.ipynb`\n",
    "  - `machine_translation.html`\n",
    "    - You can export the notebook by navigating to **File -> Download as -> HTML (.html)**."
   ]
  }
 ],
 "metadata": {
  "kernelspec": {
   "display_name": "Python [conda env:aind-nlp-capstone]",
   "language": "python",
   "name": "conda-env-aind-nlp-capstone-py"
  },
  "language_info": {
   "codemirror_mode": {
    "name": "ipython",
    "version": 3
   },
   "file_extension": ".py",
   "mimetype": "text/x-python",
   "name": "python",
   "nbconvert_exporter": "python",
   "pygments_lexer": "ipython3",
   "version": "3.5.4"
  }
 },
 "nbformat": 4,
 "nbformat_minor": 1
}
